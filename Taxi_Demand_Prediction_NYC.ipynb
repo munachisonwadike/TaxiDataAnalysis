{
 "cells": [
  {
   "cell_type": "markdown",
   "metadata": {
    "colab_type": "text",
    "id": "Ah44kDXQYaxt"
   },
   "source": [
    "# Taxi Demand Prediction - New York City"
   ]
  },
  {
   "cell_type": "markdown",
   "metadata": {
    "colab_type": "text",
    "id": "TPU9O3YyYaxv"
   },
   "source": [
    "## Business/Real World Problem\n",
    "For a given location in New York City, our goal is to <b>predict the number of pickups in that given location</b>. Some location require more taxis at a particular time than other locations owing to the presence schools, hospitals, offices etc. The prediction result can be transferred to the taxi drivers via Smartphone app, and they can subsequently move to the locations where predicted pickups are high."
   ]
  },
  {
   "cell_type": "markdown",
   "metadata": {
    "colab_type": "text",
    "id": "KBx74UPPYayG"
   },
   "source": [
    "## Information on Taxis\n",
    "\n",
    "<b>Information on taxis:</b><br>\n",
    "* <b>Yellow Taxi:</b> Yellow Medallion Taxicabs<br>\n",
    "These are the famous NYC yellow taxis that provide transportation exclusively through street-hails. The number of taxicabs is limited by a finite number of medallions issued by the TLC. You access this mode of transportation by standing in the street and hailing an available taxi with your hand. The pickups are not pre-arranged.<br><br>\n",
    "* <b>For Hire Vehicles (FHVs)</b><br> \n",
    "FHV transportation is accessed by a pre-arrangement with a dispatcher or limo company. These FHVs are not permitted to pick up passengers via street hails, as those rides are not considered pre-arranged.<br><br>\n",
    "* <b>Green Taxi: Street Hail Livery (SHL)</b><br> \n",
    "The SHL program will allow livery vehicle owners to license and outfit their vehicles with green borough taxi branding, meters, credit card machines, and ultimately the right to accept street hails in addition to pre-arranged rides.<br><br>\n",
    "<b>In this project we are considering only the yellow taxis for the time period of Jan 2015. We have used Jan- 2015 data to make prediction for Jan- 2016 data.</b>"
   ]
  },
  {
   "cell_type": "code",
   "execution_count": 1,
   "metadata": {
    "colab": {},
    "colab_type": "code",
    "id": "EVpsSf-dZE6S"
   },
   "outputs": [],
   "source": [
    "# !pip install -q gpxpy\n",
    "# !pip install -q sklearn"
   ]
  },
  {
   "cell_type": "code",
   "execution_count": 2,
   "metadata": {
    "colab": {},
    "colab_type": "code",
    "id": "Ty2UnwFxZkvN"
   },
   "outputs": [],
   "source": [
    "# !pip install -q sklearn"
   ]
  },
  {
   "cell_type": "code",
   "execution_count": 3,
   "metadata": {
    "colab": {},
    "colab_type": "code",
    "id": "OMGrXvSrYayH"
   },
   "outputs": [],
   "source": [
    "import dask.dataframe as dd\n",
    "import pandas as pd\n",
    "import matplotlib.pyplot as plt\n",
    "\n",
    "import numpy as np\n",
    "import folium\n",
    "import gpxpy.geo\n",
    "from datetime import datetime\n",
    "import time\n",
    "import seaborn as sns\n",
    "import os\n",
    "import math\n",
    "import xgboost as xgb\n",
    "import matplotlib\n",
    "matplotlib.use('nbagg')\n",
    "#from sklearn.grid_search import GridSearchCV\n",
    "from sklearn.model_selection import learning_curve,GridSearchCV\n",
    "from sklearn.metrics import mean_absolute_error\n",
    "from sklearn.metrics import mean_squared_error\n",
    "from sklearn.preprocessing import StandardScaler\n",
    "from sklearn.ensemble import RandomForestRegressor\n",
    "from sklearn.linear_model import SGDRegressor\n",
    "from sklearn.cluster import MiniBatchKMeans, KMeans\n",
    "\n",
    "\n",
    "# from numba import jit, cuda \n",
    "\n",
    "import warnings\n",
    "warnings.simplefilter('ignore')"
   ]
  },
  {
   "cell_type": "code",
   "execution_count": 4,
   "metadata": {
    "colab": {},
    "colab_type": "code",
    "id": "9GCDjEgwYayJ"
   },
   "outputs": [],
   "source": [
    "# !wget https://s3.amazonaws.com/nyc-tlc/trip+data/yellow_tripdata_2015-01.csv\n"
   ]
  },
  {
   "cell_type": "code",
   "execution_count": 5,
   "metadata": {
    "colab": {},
    "colab_type": "code",
    "id": "ry_bqKiRfoX9"
   },
   "outputs": [],
   "source": [
    "# !wget https://s3.amazonaws.com/nyc-tlc/trip+data/yellow_tripdata_2016-01.csv"
   ]
  },
  {
   "cell_type": "code",
   "execution_count": 6,
   "metadata": {
    "colab": {
     "base_uri": "https://localhost:8080/",
     "height": 34
    },
    "colab_type": "code",
    "id": "4F_MfpjibBFf",
    "outputId": "63abaa46-2429-4a6d-dd24-1ce32c434c1c"
   },
   "outputs": [
    {
     "name": "stdout",
     "output_type": "stream",
     "text": [
      "ML_Project_3.ipynb\t\t  yellow_tripdata_2015-01.csv\r\n",
      "README.md\t\t\t  yellow_tripdata_2016-01.csv\r\n",
      "Taxi_Demand_Prediction_NYC.ipynb\r\n"
     ]
    }
   ],
   "source": [
    "!ls"
   ]
  },
  {
   "cell_type": "code",
   "execution_count": 7,
   "metadata": {
    "colab": {},
    "colab_type": "code",
    "id": "DLe871faalIm"
   },
   "outputs": [],
   "source": [
    "data_2015 = dd.read_csv(\"yellow_tripdata_2015-01.csv\")\n",
    "# data_2015 = pd.read_csv(\"yellow_tripdata_2015-01.csv\")"
   ]
  },
  {
   "cell_type": "code",
   "execution_count": 8,
   "metadata": {
    "colab": {
     "base_uri": "https://localhost:8080/",
     "height": 224
    },
    "colab_type": "code",
    "id": "JLit0F3jYayM",
    "outputId": "550a5716-7301-4b5c-d170-bbe3b79faeea"
   },
   "outputs": [
    {
     "data": {
      "text/html": [
       "<div>\n",
       "<style scoped>\n",
       "    .dataframe tbody tr th:only-of-type {\n",
       "        vertical-align: middle;\n",
       "    }\n",
       "\n",
       "    .dataframe tbody tr th {\n",
       "        vertical-align: top;\n",
       "    }\n",
       "\n",
       "    .dataframe thead th {\n",
       "        text-align: right;\n",
       "    }\n",
       "</style>\n",
       "<table border=\"1\" class=\"dataframe\">\n",
       "  <thead>\n",
       "    <tr style=\"text-align: right;\">\n",
       "      <th></th>\n",
       "      <th>VendorID</th>\n",
       "      <th>tpep_pickup_datetime</th>\n",
       "      <th>tpep_dropoff_datetime</th>\n",
       "      <th>passenger_count</th>\n",
       "      <th>trip_distance</th>\n",
       "      <th>pickup_longitude</th>\n",
       "      <th>pickup_latitude</th>\n",
       "      <th>RateCodeID</th>\n",
       "      <th>store_and_fwd_flag</th>\n",
       "      <th>dropoff_longitude</th>\n",
       "      <th>dropoff_latitude</th>\n",
       "      <th>payment_type</th>\n",
       "      <th>fare_amount</th>\n",
       "      <th>extra</th>\n",
       "      <th>mta_tax</th>\n",
       "      <th>tip_amount</th>\n",
       "      <th>tolls_amount</th>\n",
       "      <th>improvement_surcharge</th>\n",
       "      <th>total_amount</th>\n",
       "    </tr>\n",
       "  </thead>\n",
       "  <tbody>\n",
       "    <tr>\n",
       "      <th>0</th>\n",
       "      <td>2</td>\n",
       "      <td>2015-01-15 19:05:39</td>\n",
       "      <td>2015-01-15 19:23:42</td>\n",
       "      <td>1</td>\n",
       "      <td>1.59</td>\n",
       "      <td>-73.993896</td>\n",
       "      <td>40.750111</td>\n",
       "      <td>1</td>\n",
       "      <td>N</td>\n",
       "      <td>-73.974785</td>\n",
       "      <td>40.750618</td>\n",
       "      <td>1</td>\n",
       "      <td>12.0</td>\n",
       "      <td>1.0</td>\n",
       "      <td>0.5</td>\n",
       "      <td>3.25</td>\n",
       "      <td>0.0</td>\n",
       "      <td>0.3</td>\n",
       "      <td>17.05</td>\n",
       "    </tr>\n",
       "    <tr>\n",
       "      <th>1</th>\n",
       "      <td>1</td>\n",
       "      <td>2015-01-10 20:33:38</td>\n",
       "      <td>2015-01-10 20:53:28</td>\n",
       "      <td>1</td>\n",
       "      <td>3.30</td>\n",
       "      <td>-74.001648</td>\n",
       "      <td>40.724243</td>\n",
       "      <td>1</td>\n",
       "      <td>N</td>\n",
       "      <td>-73.994415</td>\n",
       "      <td>40.759109</td>\n",
       "      <td>1</td>\n",
       "      <td>14.5</td>\n",
       "      <td>0.5</td>\n",
       "      <td>0.5</td>\n",
       "      <td>2.00</td>\n",
       "      <td>0.0</td>\n",
       "      <td>0.3</td>\n",
       "      <td>17.80</td>\n",
       "    </tr>\n",
       "    <tr>\n",
       "      <th>2</th>\n",
       "      <td>1</td>\n",
       "      <td>2015-01-10 20:33:38</td>\n",
       "      <td>2015-01-10 20:43:41</td>\n",
       "      <td>1</td>\n",
       "      <td>1.80</td>\n",
       "      <td>-73.963341</td>\n",
       "      <td>40.802788</td>\n",
       "      <td>1</td>\n",
       "      <td>N</td>\n",
       "      <td>-73.951820</td>\n",
       "      <td>40.824413</td>\n",
       "      <td>2</td>\n",
       "      <td>9.5</td>\n",
       "      <td>0.5</td>\n",
       "      <td>0.5</td>\n",
       "      <td>0.00</td>\n",
       "      <td>0.0</td>\n",
       "      <td>0.3</td>\n",
       "      <td>10.80</td>\n",
       "    </tr>\n",
       "    <tr>\n",
       "      <th>3</th>\n",
       "      <td>1</td>\n",
       "      <td>2015-01-10 20:33:39</td>\n",
       "      <td>2015-01-10 20:35:31</td>\n",
       "      <td>1</td>\n",
       "      <td>0.50</td>\n",
       "      <td>-74.009087</td>\n",
       "      <td>40.713818</td>\n",
       "      <td>1</td>\n",
       "      <td>N</td>\n",
       "      <td>-74.004326</td>\n",
       "      <td>40.719986</td>\n",
       "      <td>2</td>\n",
       "      <td>3.5</td>\n",
       "      <td>0.5</td>\n",
       "      <td>0.5</td>\n",
       "      <td>0.00</td>\n",
       "      <td>0.0</td>\n",
       "      <td>0.3</td>\n",
       "      <td>4.80</td>\n",
       "    </tr>\n",
       "    <tr>\n",
       "      <th>4</th>\n",
       "      <td>1</td>\n",
       "      <td>2015-01-10 20:33:39</td>\n",
       "      <td>2015-01-10 20:52:58</td>\n",
       "      <td>1</td>\n",
       "      <td>3.00</td>\n",
       "      <td>-73.971176</td>\n",
       "      <td>40.762428</td>\n",
       "      <td>1</td>\n",
       "      <td>N</td>\n",
       "      <td>-74.004181</td>\n",
       "      <td>40.742653</td>\n",
       "      <td>2</td>\n",
       "      <td>15.0</td>\n",
       "      <td>0.5</td>\n",
       "      <td>0.5</td>\n",
       "      <td>0.00</td>\n",
       "      <td>0.0</td>\n",
       "      <td>0.3</td>\n",
       "      <td>16.30</td>\n",
       "    </tr>\n",
       "  </tbody>\n",
       "</table>\n",
       "</div>"
      ],
      "text/plain": [
       "   VendorID tpep_pickup_datetime tpep_dropoff_datetime  passenger_count  \\\n",
       "0         2  2015-01-15 19:05:39   2015-01-15 19:23:42                1   \n",
       "1         1  2015-01-10 20:33:38   2015-01-10 20:53:28                1   \n",
       "2         1  2015-01-10 20:33:38   2015-01-10 20:43:41                1   \n",
       "3         1  2015-01-10 20:33:39   2015-01-10 20:35:31                1   \n",
       "4         1  2015-01-10 20:33:39   2015-01-10 20:52:58                1   \n",
       "\n",
       "   trip_distance  pickup_longitude  pickup_latitude  RateCodeID  \\\n",
       "0           1.59        -73.993896        40.750111           1   \n",
       "1           3.30        -74.001648        40.724243           1   \n",
       "2           1.80        -73.963341        40.802788           1   \n",
       "3           0.50        -74.009087        40.713818           1   \n",
       "4           3.00        -73.971176        40.762428           1   \n",
       "\n",
       "  store_and_fwd_flag  dropoff_longitude  dropoff_latitude  payment_type  \\\n",
       "0                  N         -73.974785         40.750618             1   \n",
       "1                  N         -73.994415         40.759109             1   \n",
       "2                  N         -73.951820         40.824413             2   \n",
       "3                  N         -74.004326         40.719986             2   \n",
       "4                  N         -74.004181         40.742653             2   \n",
       "\n",
       "   fare_amount  extra  mta_tax  tip_amount  tolls_amount  \\\n",
       "0         12.0    1.0      0.5        3.25           0.0   \n",
       "1         14.5    0.5      0.5        2.00           0.0   \n",
       "2          9.5    0.5      0.5        0.00           0.0   \n",
       "3          3.5    0.5      0.5        0.00           0.0   \n",
       "4         15.0    0.5      0.5        0.00           0.0   \n",
       "\n",
       "   improvement_surcharge  total_amount  \n",
       "0                    0.3         17.05  \n",
       "1                    0.3         17.80  \n",
       "2                    0.3         10.80  \n",
       "3                    0.3          4.80  \n",
       "4                    0.3         16.30  "
      ]
     },
     "execution_count": 8,
     "metadata": {},
     "output_type": "execute_result"
    }
   ],
   "source": [
    "data_2015.head()"
   ]
  },
  {
   "cell_type": "code",
   "execution_count": 9,
   "metadata": {
    "colab": {
     "base_uri": "https://localhost:8080/",
     "height": 136
    },
    "colab_type": "code",
    "id": "XeC7Q8XKYayP",
    "outputId": "81ff30a0-823e-47b3-8e2b-5c07e0667f7d"
   },
   "outputs": [
    {
     "data": {
      "text/plain": [
       "Index(['VendorID', 'tpep_pickup_datetime', 'tpep_dropoff_datetime',\n",
       "       'passenger_count', 'trip_distance', 'pickup_longitude',\n",
       "       'pickup_latitude', 'RateCodeID', 'store_and_fwd_flag',\n",
       "       'dropoff_longitude', 'dropoff_latitude', 'payment_type', 'fare_amount',\n",
       "       'extra', 'mta_tax', 'tip_amount', 'tolls_amount',\n",
       "       'improvement_surcharge', 'total_amount'],\n",
       "      dtype='object')"
      ]
     },
     "execution_count": 9,
     "metadata": {},
     "output_type": "execute_result"
    }
   ],
   "source": [
    "data_2015.columns"
   ]
  },
  {
   "cell_type": "code",
   "execution_count": 10,
   "metadata": {
    "colab": {
     "base_uri": "https://localhost:8080/",
     "height": 34
    },
    "colab_type": "code",
    "id": "CHPOU2pLYayS",
    "outputId": "569ec0a3-b53a-4379-af83-5e36fc264779"
   },
   "outputs": [
    {
     "name": "stdout",
     "output_type": "stream",
     "text": [
      "Number of columns = 19\n"
     ]
    }
   ],
   "source": [
    "print(\"Number of columns = \"+str(len(data_2015.columns)))"
   ]
  },
  {
   "cell_type": "code",
   "execution_count": 11,
   "metadata": {
    "colab": {},
    "colab_type": "code",
    "id": "s6QTdGm1YayU"
   },
   "outputs": [],
   "source": [
    "# data_2015.visualize()"
   ]
  },
  {
   "cell_type": "code",
   "execution_count": 12,
   "metadata": {
    "colab": {
     "base_uri": "https://localhost:8080/",
     "height": 34
    },
    "colab_type": "code",
    "id": "A1acjBpBYayX",
    "outputId": "ce4ddf68-e719-4a50-85a5-b7f384bf5a7e"
   },
   "outputs": [
    {
     "data": {
      "text/plain": [
       "dd.Scalar<series-..., dtype=int64>"
      ]
     },
     "execution_count": 12,
     "metadata": {},
     "output_type": "execute_result"
    }
   ],
   "source": [
    "data_2015[\"passenger_count\"].sum()\n",
    "# data_2015[\"passenger_count\"].sum().visualize()"
   ]
  },
  {
   "cell_type": "code",
   "execution_count": 13,
   "metadata": {
    "colab": {
     "base_uri": "https://localhost:8080/",
     "height": 34
    },
    "colab_type": "code",
    "id": "bpJBM_0zYayZ",
    "outputId": "add0fda6-4668-44dd-dfaa-faea7cdd49bf"
   },
   "outputs": [
    {
     "name": "stdout",
     "output_type": "stream",
     "text": [
      "Total Number of Passengers in January 2015 = 21437303\n"
     ]
    }
   ],
   "source": [
    "print(\"Total Number of Passengers in January 2015 = \"+str(data_2015[\"passenger_count\"].sum(axis = 0).compute()))\n",
    "# print(\"Total Number of Passengers in January 2015 = \"+str(data_2015[\"passenger_count\"].sum(axis = 0))) #for pd instead of dd"
   ]
  },
  {
   "cell_type": "code",
   "execution_count": 14,
   "metadata": {
    "colab": {
     "base_uri": "https://localhost:8080/",
     "height": 357
    },
    "colab_type": "code",
    "id": "2i7lRYScYayc",
    "outputId": "db37ac90-c908-48a5-ef0c-20641aeb668e"
   },
   "outputs": [
    {
     "name": "stdout",
     "output_type": "stream",
     "text": [
      "Number of nan values = VendorID                 0\n",
      "tpep_pickup_datetime     0\n",
      "tpep_dropoff_datetime    0\n",
      "passenger_count          0\n",
      "trip_distance            0\n",
      "pickup_longitude         0\n",
      "pickup_latitude          0\n",
      "RateCodeID               0\n",
      "store_and_fwd_flag       0\n",
      "dropoff_longitude        0\n",
      "dropoff_latitude         0\n",
      "payment_type             0\n",
      "fare_amount              0\n",
      "extra                    0\n",
      "mta_tax                  0\n",
      "tip_amount               0\n",
      "tolls_amount             0\n",
      "improvement_surcharge    3\n",
      "total_amount             0\n",
      "dtype: int64\n"
     ]
    }
   ],
   "source": [
    "print(\"Number of nan values = {}\".format(data_2015.isnull().sum().compute()))\n",
    "# print(\"Number of nan values = {}\".format(data_2015.isnull().sum())) #for pd instead of dd"
   ]
  },
  {
   "cell_type": "markdown",
   "metadata": {
    "colab_type": "text",
    "id": "Aer4sWEqYaye"
   },
   "source": [
    "Since we will not be using \"improvement_surcharge\" in our task, so nan values will not affect us. So, we are leaving it as it is."
   ]
  },
  {
   "cell_type": "markdown",
   "metadata": {
    "colab_type": "text",
    "id": "Wq3fwjGGYayk"
   },
   "source": [
    "### Pickup "
   ]
  },
  {
   "cell_type": "code",
   "execution_count": 15,
   "metadata": {
    "colab": {},
    "colab_type": "code",
    "id": "-Wi0LgATYayl",
    "scrolled": false
   },
   "outputs": [],
   "source": [
    "# #detecting the pickups latitude and longitudes which are outside NYC.\n",
    "# outside_NYC = data_2015[((data_2015.pickup_latitude <= 40.5774) | (data_2015.pickup_longitude <= -74.15) | (data_2015.pickup_latitude >= 40.9176) | (data_2015.pickup_longitude >= -73.7004))]\n",
    "# #latitude at equator is 0. Above equator latitude increases and becomes 90 at north pole. Below equator latitude decreases and\n",
    "# #is negative and becomes -90 at south pole.\n",
    "# #Longitude is 0 at United Kingdom(UK). To the right of UK, longitude increases positively and to the left of UK longitude decrease\n",
    "# #and is negative.\n",
    "\n",
    "# m = folium.Map(location = [40.5774, -73.7004], tiles = \"Stamen Toner\")\n",
    "\n",
    "# outside_pickups = outside_NYC.head(25000)\n",
    "\n",
    "# for i,j in outside_pickups.iterrows():\n",
    "#     if j[\"pickup_latitude\"] != 0:\n",
    "#         folium.Marker([j[\"pickup_latitude\"], j[\"pickup_longitude\"]]).add_to(m)\n",
    "# m"
   ]
  },
  {
   "cell_type": "markdown",
   "metadata": {
    "colab_type": "text",
    "id": "mL31nTSoYayo"
   },
   "source": [
    "<b>Observation:</b>As you can see in the above map, there are many erroneous data points, which are in some other state, and some of them are even in Atlantic Ocean. All these erroneous data points will also be removed as a part of data cleaning process."
   ]
  },
  {
   "cell_type": "markdown",
   "metadata": {
    "colab_type": "text",
    "id": "u2dzwaFQYayo"
   },
   "source": [
    "### Dropoff"
   ]
  },
  {
   "cell_type": "code",
   "execution_count": 16,
   "metadata": {
    "colab": {},
    "colab_type": "code",
    "id": "o0kTwS_BYayp"
   },
   "outputs": [],
   "source": [
    "# #detecting the dropoff latitude and longitudes which are outside NYC.\n",
    "# outside_NYC = data_2015[((data_2015.dropoff_latitude <= 40.5774) | (data_2015.dropoff_longitude <= -74.15) | (data_2015.dropoff_latitude >= 40.9176) | (data_2015.dropoff_longitude >= -73.7004))]\n",
    "# #latitude at equator is 0. Above equator latitude increases and becomes 90 at north pole. Below equator latitude decreases and\n",
    "# #is negative and becomes -90 at south pole.\n",
    "# #Longitude is 0 at United Kingdom(UK). To the right of UK, longitude increases positively and to the left of UK longitude decrease\n",
    "# #and is negative.\n",
    "\n",
    "# m = folium.Map(location = [40.5774, -73.7004], tiles = \"Stamen Toner\")\n",
    "\n",
    "# outside_dropoff = outside_NYC.head(25000)\n",
    "\n",
    "# for i,j in outside_dropoff.iterrows():\n",
    "#     if j[\"dropoff_latitude\"] != 0:\n",
    "#         folium.Marker([j[\"dropoff_latitude\"], j[\"dropoff_longitude\"]]).add_to(m)\n",
    "# m\n",
    "# #documentation of folium: https://python-visualization.github.io/folium/docs-v0.6.0/quickstart.html#Getting-Started"
   ]
  },
  {
   "cell_type": "markdown",
   "metadata": {
    "colab_type": "text",
    "id": "ZiDc4-jHYays"
   },
   "source": [
    "<b>Observation:</b>As you can see in the above map, there are many erroneous data points, which are in some other state, and some of them are even in Atlantic Ocean. All these erroneous data points will also be removed as a part of data cleaning process."
   ]
  },
  {
   "cell_type": "markdown",
   "metadata": {
    "colab_type": "text",
    "id": "MX0dEyjLYays"
   },
   "source": [
    "### Creating new Dataframe with Trip duration and speed"
   ]
  },
  {
   "cell_type": "code",
   "execution_count": 17,
   "metadata": {
    "colab": {},
    "colab_type": "code",
    "id": "ZLvz5tRbYayt"
   },
   "outputs": [],
   "source": [
    "def timeToUnix(t):\n",
    "    #we have a time in the format \"YYYY-MM-DD HH:MM:SS\", which is a string\n",
    "    change = datetime.strptime(t, \"%Y-%m-%d %H:%M:%S\") #this will convert the String time into datetime format\n",
    "    t_tuple = change.timetuple() #this will convert the datetime formatted time into structured time\n",
    "    return time.mktime(t_tuple) + 3600  #this will convert structured time into unix-time.\n",
    "    #Now why, I have added 3600 in the above unix times. NOW, UNIX TIMESTAMP MEANS HOW MANY SECONDS HAVE ELAPSED SINCE 1 JAN 1970\n",
    "    #(EPOCH) CALCULATED FROM THE REFERENCE OF GMT. I HAVE MADE THIS PROJECT IN GERMANY WHICH IS 1HR/3600SECS AHEAD OF GMT TIME, \n",
    "    #AND HERE \"time.mktime()\" FUNCTION RETURNS UNIX TIMESTAMP FROM THE REFERENCE OF LOCAL TIME. SO, THEREFORE, IN ORDER TO \n",
    "    #COMPENSATE FOR 1HR AHEAD, \"time.mktime\" SUBTRACTED 3600 SECONDS MEANS 1HR FROM UNIX TIME STAMP IN ORDER TO CATER TO \n",
    "    #LOCAL TIME. SO, THEREFORE, IF WE WANT OUR UNIX TIME TO BE EXACTLY EQUAL TO GMT TIME, WE HAVE TO ADD 3600 SECONDS \n",
    "    #MEANS 1HR TO UNIX TIME. lET SAY AT 12:00AM ON 1st JAN 1970, TIME ELAPSED AT GMT IS 0, THE TIME ELAPSED IN GERMANY IS \n",
    "    #3600SEC. NOW ON 1st JAN 2015, ELASPED SECONDS AT GMT IS 'X', SO THE EQUIVALENT ELAPSED SECONDS IN GERMANY WILL BE X+3600. \n",
    "    #NOW \"time.mktime()\" SUBTRACT THIS 3600 EXTRA IN GERMAN TIME WHICH WE HAVE TO ADD IN ORDER TO MAKE IT EQUAL TO GMT.\n",
    "\n",
    "def dfWithTripTimes(df):\n",
    "    startTime = datetime.now()\n",
    "    duration = df[[\"tpep_pickup_datetime\", \"tpep_dropoff_datetime\"]].compute()\n",
    "    #duration = df[[\"tpep_pickup_datetime\", \"tpep_dropoff_datetime\"]] #for pd instead of dd\n",
    "\n",
    "    pickup_time = [timeToUnix(pkup) for pkup in duration[\"tpep_pickup_datetime\"].values]\n",
    "    dropoff_time = [timeToUnix(drpof) for drpof in duration[\"tpep_dropoff_datetime\"].values]\n",
    "#     trip_duration = []\n",
    "#     for xy in zip(dropoff_time, pickup_time):\n",
    "#         trip_duration.append(xy[0] - xy[1])\n",
    "    trip_duration = (np.array(dropoff_time) - np.array(pickup_time))/float(60)  #trip duration in minutes\n",
    "    \n",
    "    NewFrame = df[['passenger_count','trip_distance','pickup_longitude','pickup_latitude','dropoff_longitude','dropoff_latitude','total_amount']].compute()\n",
    "#     NewFrame = df[['passenger_count','trip_distance','pickup_longitude','pickup_latitude','dropoff_longitude','dropoff_latitude','total_amount']] #for pd instead of dd\n",
    "    NewFrame[\"trip_duration\"] = trip_duration\n",
    "    NewFrame[\"pickup_time\"] = pickup_time\n",
    "    NewFrame[\"speed\"] = (NewFrame[\"trip_distance\"]/NewFrame[\"trip_duration\"])*60  #speed in miles/hr\n",
    "    \n",
    "    print(\"Time taken for creation of dataframe is {}\".format(datetime.now() - startTime))\n",
    "    return NewFrame"
   ]
  },
  {
   "cell_type": "code",
   "execution_count": 18,
   "metadata": {
    "colab": {
     "base_uri": "https://localhost:8080/",
     "height": 34
    },
    "colab_type": "code",
    "id": "Ts040oNcYayv",
    "outputId": "187c68ce-59d2-4fc3-b789-2accd75c2cbf"
   },
   "outputs": [
    {
     "name": "stdout",
     "output_type": "stream",
     "text": [
      "Time taken for creation of dataframe is 0:04:50.114900\n"
     ]
    }
   ],
   "source": [
    "new_frame = dfWithTripTimes(data_2015)"
   ]
  },
  {
   "cell_type": "markdown",
   "metadata": {
    "colab_type": "text",
    "id": "BSp4PufHYayx"
   },
   "source": [
    "## Trip Durations"
   ]
  },
  {
   "cell_type": "markdown",
   "metadata": {
    "colab_type": "text",
    "id": "mxblmT1sYayy"
   },
   "source": [
    "### According to NYC Taxi and Limousine Commission regulations, the maximum allowed trip duration in a 24hrs interval is 12 hrs."
   ]
  },
  {
   "cell_type": "code",
   "execution_count": 19,
   "metadata": {
    "colab": {
     "base_uri": "https://localhost:8080/",
     "height": 17
    },
    "colab_type": "code",
    "id": "VUGq1swFYayz",
    "outputId": "4c8ea674-0773-4e75-cca3-e8089a04ad36"
   },
   "outputs": [],
   "source": [
    "# plt.figure(figsize = (10,6))\n",
    "# sns.boxplot(\"trip_duration\", data = new_frame, orient = \"v\")\n",
    "# plt.tick_params(labelsize = 20)\n",
    "# plt.ylabel(\"Trip Duration(minutes)\", fontsize = 20)\n",
    "# plt.show()"
   ]
  },
  {
   "cell_type": "code",
   "execution_count": 20,
   "metadata": {
    "colab": {},
    "colab_type": "code",
    "id": "A52yA8RWYay1"
   },
   "outputs": [],
   "source": [
    "quantile_tripDuration = new_frame.trip_duration.quantile(np.round(np.arange(0.00, 1.01, 0.01), 2))"
   ]
  },
  {
   "cell_type": "code",
   "execution_count": 21,
   "metadata": {
    "colab": {
     "base_uri": "https://localhost:8080/",
     "height": 204
    },
    "colab_type": "code",
    "id": "dTBjqIfmYay5",
    "outputId": "e945ab2c-3cba-456e-9882-c5edac2656e4"
   },
   "outputs": [
    {
     "name": "stdout",
     "output_type": "stream",
     "text": [
      "0th percentile value of Trip Duration is -1211.0166666666667min\n",
      "10th percentile value of Trip Duration is 3.8333333333333335min\n",
      "20th percentile value of Trip Duration is 5.383333333333334min\n",
      "30th percentile value of Trip Duration is 6.816666666666666min\n",
      "40th percentile value of Trip Duration is 8.3min\n",
      "50th percentile value of Trip Duration is 9.95min\n",
      "60th percentile value of Trip Duration is 11.866666666666667min\n",
      "70th percentile value of Trip Duration is 14.283333333333333min\n",
      "80th percentile value of Trip Duration is 17.633333333333333min\n",
      "90th percentile value of Trip Duration is 23.45min\n",
      "100th percentile value of Trip Duration is 548555.6333333333min\n"
     ]
    }
   ],
   "source": [
    "qValues = np.round(np.arange(0.00, 1.01, 0.1), 2)\n",
    "for i in qValues:\n",
    "    print(\"{}th percentile value of Trip Duration is {}min\".format((int(i*100)), quantile_tripDuration[i]))"
   ]
  },
  {
   "cell_type": "code",
   "execution_count": 22,
   "metadata": {
    "colab": {
     "base_uri": "https://localhost:8080/",
     "height": 204
    },
    "colab_type": "code",
    "id": "_dIjuRbjYay-",
    "outputId": "f48a84a3-20a3-4621-bbf0-58234781e3ed"
   },
   "outputs": [
    {
     "name": "stdout",
     "output_type": "stream",
     "text": [
      "90 percentile value of Trip Duration is 23.45min\n",
      "91 percentile value of Trip Duration is 24.35min\n",
      "92 percentile value of Trip Duration is 25.383333333333333min\n",
      "93 percentile value of Trip Duration is 26.55min\n",
      "94 percentile value of Trip Duration is 27.933333333333334min\n",
      "95 percentile value of Trip Duration is 29.583333333333332min\n",
      "96 percentile value of Trip Duration is 31.68333333333333min\n",
      "97 percentile value of Trip Duration is 34.46666666666667min\n",
      "98 percentile value of Trip Duration is 38.71666666666667min\n",
      "99 percentile value of Trip Duration is 46.75min\n",
      "100 percentile value of Trip Duration is 548555.6333333333min\n"
     ]
    }
   ],
   "source": [
    "qValues = np.round(np.arange(0.90, 1.01, 0.01), 2)\n",
    "for i in qValues:\n",
    "    print(\"{} percentile value of Trip Duration is {}min\".format((int(i*100)), quantile_tripDuration[i]))"
   ]
  },
  {
   "cell_type": "markdown",
   "metadata": {
    "colab_type": "text",
    "id": "ri9eR4cJYazA"
   },
   "source": [
    "<b>Observations:</b>Here, 0th percentile value of trip duration is negative(weird), also 99th percentile value of trip duration is 46.75min, but 100th percentile value is 548555.633min(weird). 0th and 100th percentile values are certainly an erroneous points."
   ]
  },
  {
   "cell_type": "code",
   "execution_count": 23,
   "metadata": {
    "colab": {},
    "colab_type": "code",
    "id": "eKlRfUCqYazA"
   },
   "outputs": [],
   "source": [
    "new_frame_cleaned = new_frame[(new_frame.trip_duration>1) & (new_frame.trip_duration<720)]"
   ]
  },
  {
   "cell_type": "markdown",
   "metadata": {
    "colab_type": "text",
    "id": "49fbtQPIYazC"
   },
   "source": [
    "#### Plot after removing outliers and erroneous points"
   ]
  },
  {
   "cell_type": "code",
   "execution_count": 24,
   "metadata": {
    "colab": {
     "base_uri": "https://localhost:8080/",
     "height": 17
    },
    "colab_type": "code",
    "id": "6l5YeJOsYazG",
    "outputId": "f6eba8e3-4091-4868-b1aa-9d55bc7d9533"
   },
   "outputs": [
    {
     "data": {
      "image/png": "[encoded data removed]",
      "text/plain": [
       "<Figure size 864x576 with 1 Axes>"
      ]
     },
     "metadata": {
      "needs_background": "light"
     },
     "output_type": "display_data"
    }
   ],
   "source": [
    "plt.figure(figsize = (12,8))\n",
    "sns.kdeplot(new_frame_cleaned[\"trip_duration\"].values, shade = True, cumulative = False)\n",
    "plt.tick_params(labelsize = 20)\n",
    "plt.xlabel(\"Trip Duration\", fontsize = 20)\n",
    "plt.title(\"PDF of Trip Duration\", fontsize = 20)\n",
    "plt.show()"
   ]
  },
  {
   "cell_type": "markdown",
   "metadata": {
    "colab_type": "text",
    "id": "AMY1rIUeYazI"
   },
   "source": [
    "<b>Observation:</b> Above PDF plot shows that almost all of the trip durations are very less and approximately less than 100, extremely few trip durations are above 100."
   ]
  },
  {
   "cell_type": "markdown",
   "metadata": {
    "colab_type": "text",
    "id": "LBBC4QuRYazJ"
   },
   "source": [
    "## Speed"
   ]
  },
  {
   "cell_type": "code",
   "execution_count": 25,
   "metadata": {
    "colab": {},
    "colab_type": "code",
    "id": "djqvumpjYazK"
   },
   "outputs": [],
   "source": [
    "def changingLabels(num):\n",
    "    if num < 10**3:\n",
    "        return num\n",
    "    elif num>=10**3 and num < 10**6:\n",
    "        return str(num/10**3)+\"k\"\n",
    "    elif num>=10**6 and num < 10**9:\n",
    "        return str(num/10**6) + \"M\"\n",
    "    else:\n",
    "        return str(num/10**9) + \"B\""
   ]
  },
  {
   "cell_type": "code",
   "execution_count": 26,
   "metadata": {
    "colab": {
     "base_uri": "https://localhost:8080/",
     "height": 17
    },
    "colab_type": "code",
    "id": "EVbCiZ3NYazM",
    "outputId": "7332db9d-b86d-407b-dd14-da5301edd2d9"
   },
   "outputs": [],
   "source": [
    "# fig = plt.figure(figsize = (10,6))\n",
    "# ax = sns.boxplot(\"speed\", data = new_frame_cleaned, orient = \"v\")\n",
    "\n",
    "# ax.set_yticklabels([changingLabels(num) for num in ax.get_yticks()])\n",
    "# plt.tick_params(labelsize = 20)\n",
    "# plt.ylabel(\"Speed(Miles/hr) in Millions\", fontsize = 20)\n",
    "# plt.show()"
   ]
  },
  {
   "cell_type": "code",
   "execution_count": 27,
   "metadata": {
    "colab": {},
    "colab_type": "code",
    "id": "Cu2csZAmYazO"
   },
   "outputs": [],
   "source": [
    "quantile_speed = new_frame_cleaned.speed.quantile(np.round(np.arange(0.00, 1.01, 0.01), 2))"
   ]
  },
  {
   "cell_type": "markdown",
   "metadata": {
    "colab_type": "text",
    "id": "3ycUHqiPYazZ"
   },
   "source": [
    "<b>Observations:</b> Here, 100th percentile value of a speed is 192 Million miles/hr which is (BIZZARE). Furthermore, 99.9th percentile value of speed is 45.31miles/hr. So, we are removing all the data points where speed is greater than 45.31miles/hr."
   ]
  },
  {
   "cell_type": "code",
   "execution_count": 28,
   "metadata": {
    "colab": {},
    "colab_type": "code",
    "id": "rJa4jv0OYazZ"
   },
   "outputs": [],
   "source": [
    "new_frame_cleaned = new_frame_cleaned[(new_frame_cleaned.speed>0) & (new_frame_cleaned.speed<45.31)]"
   ]
  },
  {
   "cell_type": "markdown",
   "metadata": {
    "colab_type": "text",
    "id": "lC2snNshYazb"
   },
   "source": [
    "#### Box plot of speed after removing outliers and erroneous points."
   ]
  },
  {
   "cell_type": "code",
   "execution_count": 29,
   "metadata": {
    "colab": {
     "base_uri": "https://localhost:8080/",
     "height": 34
    },
    "colab_type": "code",
    "id": "JQHGu07-Yaze",
    "outputId": "2b826045-b2b2-4537-e7d0-a8a8c341d363"
   },
   "outputs": [
    {
     "name": "stdout",
     "output_type": "stream",
     "text": [
      "Average Speed of Taxis around NYC = 12.452320837813998\n"
     ]
    }
   ],
   "source": [
    "Average_speed = sum(new_frame_cleaned.speed)/len(new_frame_cleaned.speed)\n",
    "print(\"Average Speed of Taxis around NYC = \"+str(Average_speed))"
   ]
  },
  {
   "cell_type": "code",
   "execution_count": 30,
   "metadata": {
    "colab": {
     "base_uri": "https://localhost:8080/",
     "height": 34
    },
    "colab_type": "code",
    "id": "hDdoBwmEYazg",
    "outputId": "8532c248-f32a-44e1-dfa1-ce34d1f68c9a"
   },
   "outputs": [
    {
     "name": "stdout",
     "output_type": "stream",
     "text": [
      "Speed of Taxis around NYC per 10 minutes = 2.075386806302333 per 10 minutes.\n"
     ]
    }
   ],
   "source": [
    "print(\"Speed of Taxis around NYC per 10 minutes = \"+str(Average_speed/6)+\" per 10 minutes.\")"
   ]
  },
  {
   "cell_type": "markdown",
   "metadata": {
    "colab_type": "text",
    "id": "DB-_UcXoYazi"
   },
   "source": [
    "### The avg speed in Newyork speed is 12.45miles/hr, so a cab driver can travel 2 miles per 10min on avg."
   ]
  },
  {
   "cell_type": "markdown",
   "metadata": {
    "colab_type": "text",
    "id": "2xI9pXCpYazj"
   },
   "source": [
    "## Trip Distance"
   ]
  },
  {
   "cell_type": "code",
   "execution_count": 31,
   "metadata": {
    "colab": {
     "base_uri": "https://localhost:8080/",
     "height": 17
    },
    "colab_type": "code",
    "id": "oD7PjrGIYazm",
    "outputId": "a08fbd74-e2ab-4c01-e2c2-b475045330e6"
   },
   "outputs": [],
   "source": [
    "# fig = plt.figure(figsize = (10,6))\n",
    "# ax = sns.boxplot(\"trip_distance\", data = new_frame_cleaned, orient = \"v\")\n",
    "\n",
    "# plt.tick_params(labelsize = 20)\n",
    "# plt.ylabel(\"Trip Distance(Miles)\", fontsize = 20)\n",
    "# plt.show()"
   ]
  },
  {
   "cell_type": "code",
   "execution_count": 32,
   "metadata": {
    "colab": {},
    "colab_type": "code",
    "id": "vMHDonSXYazo"
   },
   "outputs": [],
   "source": [
    "quantile_tripDistance = new_frame_cleaned.trip_distance.quantile(np.round(np.arange(0.00, 1.01, 0.01), 2))\n"
   ]
  },
  {
   "cell_type": "code",
   "execution_count": 33,
   "metadata": {
    "colab": {
     "base_uri": "https://localhost:8080/",
     "height": 187
    },
    "colab_type": "code",
    "id": "X_apoY9LYazv",
    "outputId": "7523953b-9c57-4880-9db0-83de0f1aab0c"
   },
   "outputs": [
    {
     "name": "stdout",
     "output_type": "stream",
     "text": [
      "Fraction of cleaned points 0.9680387130396095\n",
      "Total number of outliers and erroneous points removed =  407474\n"
     ]
    }
   ],
   "source": [
    "# Observation: Here, 99.9th percentile of trip distance is 22.58miles, however, \n",
    "# 100th percentile value is 258.9miles, which is very high. So, we are removing all \n",
    "# the data points where trip distance is greater than 23miles.\n",
    "new_frame_cleaned = new_frame_cleaned[(new_frame_cleaned.trip_distance>0) & (new_frame_cleaned.trip_distance<23)]\n",
    "\n",
    "# Observation:Here, 99.9th percentile fare amount of a trip is 86.6. \n",
    "# However, 100th percentile of a fare amount is 3Million which is bizzare.\n",
    "# Therefore, we have removedall the data points where fare amount is more than \n",
    "# 99.9th percentile value.\n",
    "new_frame_cleaned = new_frame_cleaned[(new_frame_cleaned.total_amount>0) & (new_frame_cleaned.total_amount<86.6)]\n",
    "\n",
    "# Removing Pickups outside NYC\n",
    "new_frame_cleaned = new_frame_cleaned[(((new_frame_cleaned.pickup_latitude >= 40.5774) & (new_frame_cleaned.pickup_latitude <= 40.9176)) & ((new_frame_cleaned.pickup_longitude >= -74.15) & (new_frame_cleaned.pickup_longitude <= -73.7004)))]\n",
    "\n",
    "# Removing Dropoffs outside NYC\n",
    "new_frame_cleaned = new_frame_cleaned[(((new_frame_cleaned.dropoff_latitude >= 40.5774) & (new_frame_cleaned.dropoff_latitude <= 40.9176)) & ((new_frame_cleaned.dropoff_longitude >= -74.15) & (new_frame_cleaned.dropoff_longitude <= -73.7004)))]\n",
    "\n",
    "# Fraction of points left after removing all the erroneous points and outlier points. \n",
    "# Points where pickups and dropoffs are outside of NYC are also removed.\n",
    "print(\"Fraction of cleaned points\",str(new_frame_cleaned.shape[0]/new_frame.shape[0]))\n",
    "\n",
    "print(\"Total number of outliers and erroneous points removed = \",str(new_frame.shape[0] - new_frame_cleaned.shape[0]))\n"
   ]
  },
  {
   "cell_type": "code",
   "execution_count": 34,
   "metadata": {
    "colab": {
     "base_uri": "https://localhost:8080/",
     "height": 1000
    },
    "colab_type": "code",
    "id": "KkToSz6-Ya0M",
    "outputId": "8a2e8278-1569-4ba5-e20c-6440d3d7a2c5"
   },
   "outputs": [],
   "source": [
    "# m = folium.Map(location = [40.9176, -73.7004], tiles = \"Stamen Toner\")\n",
    "\n",
    "# pickups_within_NYC = new_frame_cleaned.sample(n = 500)\n",
    "\n",
    "# for i,j in pickups_within_NYC.iterrows():\n",
    "#     folium.Marker([j[\"pickup_latitude\"], j[\"pickup_longitude\"]]).add_to(m)\n",
    "# m"
   ]
  },
  {
   "cell_type": "markdown",
   "metadata": {
    "colab_type": "text",
    "id": "VWmFQ5yFYa0P"
   },
   "source": [
    "<b>Observation:</b> Most of the pickups are concentrated in and around Manhattan district of New York"
   ]
  },
  {
   "cell_type": "code",
   "execution_count": 35,
   "metadata": {
    "colab": {
     "base_uri": "https://localhost:8080/",
     "height": 1000
    },
    "colab_type": "code",
    "id": "mN0u70z5Ya0R",
    "outputId": "a7e887cc-1146-4fe8-a551-e19c84550b7f"
   },
   "outputs": [],
   "source": [
    "# m = folium.Map(location = [40.9176, -73.7004], tiles = \"Stamen Toner\")\n",
    "\n",
    "# dropoff_within_NYC = new_frame_cleaned.sample(n = 500)\n",
    "\n",
    "# for i,j in dropoff_within_NYC.iterrows():\n",
    "#     folium.Marker([j[\"dropoff_latitude\"], j[\"dropoff_longitude\"]]).add_to(m)\n",
    "# m"
   ]
  },
  {
   "cell_type": "markdown",
   "metadata": {
    "colab_type": "text",
    "id": "yH_TrP8_Ya0T"
   },
   "source": [
    "<b>Observation:</b> Most of the dropoffs are concentrated in and around Manhattan district of New York"
   ]
  },
  {
   "cell_type": "markdown",
   "metadata": {
    "colab_type": "text",
    "id": "DLz-6mycYa0Y"
   },
   "source": [
    "# 3. Data Preparation"
   ]
  },
  {
   "cell_type": "markdown",
   "metadata": {
    "colab_type": "text",
    "id": "z_8n46AbYa0b"
   },
   "source": [
    "## Clustering/Segmentation"
   ]
  },
  {
   "cell_type": "code",
   "execution_count": 36,
   "metadata": {
    "colab": {},
    "colab_type": "code",
    "id": "sCSeQ7bvYa0b"
   },
   "outputs": [],
   "source": [
    "# 3. Data Preparation\n",
    "## Clustering/Segmentation\n",
    "\n",
    "coord = new_frame_cleaned[[\"pickup_latitude\", \"pickup_longitude\"]].values\n",
    "neighbors = []\n",
    "\n",
    "def min_distance(regionCenters, totalClusters):\n",
    "    good_points = 0\n",
    "    bad_points = 0\n",
    "    less_dist = []\n",
    "    more_dist = []\n",
    "    min_distance = 100000  #any big number can be given here\n",
    "    for i in range(totalClusters):\n",
    "        good_points = 0\n",
    "        bad_points = 0\n",
    "        for j in range(totalClusters):\n",
    "            if j != i:\n",
    "                distance = gpxpy.geo.haversine_distance(latitude_1 = regionCenters[i][0], longitude_1 = regionCenters[i][1], latitude_2 = regionCenters[j][0], longitude_2 = regionCenters[j][1])\n",
    "                #you can check the documentation of above \"gpxpy.geo.haversine_distance\" at \"https://github.com/tkrajina/gpxpy/blob/master/gpxpy/geo.py\"\n",
    "                #\"gpxpy.geo.haversine_distance\" gives distance between two latitudes and longitudes in meters. So, we have to convert it into miles.\n",
    "                distance = distance/(1.60934*1000)   #distance from meters to miles\n",
    "                min_distance = min(min_distance, distance) #it will return minimum of \"min_distance, distance\".\n",
    "                if distance < 2:\n",
    "                    good_points += 1\n",
    "                else:\n",
    "                    bad_points += 1\n",
    "        less_dist.append(good_points)\n",
    "        more_dist.append(bad_points)\n",
    "    print(\"On choosing a cluster size of {}\".format(totalClusters))\n",
    "    print(\"Avg. Number clusters within vicinity where inter cluster distance < 2 miles is {}\".format(np.ceil(sum(less_dist)/len(less_dist))))\n",
    "    print(\"Avg. Number clusters outside of vicinity where inter cluster distance > 2 miles is {}\".format(np.ceil(sum(more_dist)/len(more_dist))))\n",
    "    print(\"Minimum distance between any two clusters = {}\".format(min_distance))\n",
    "    print(\"-\"*10)\n",
    "            \n",
    "def makingRegions(noOfRegions):\n",
    "    regions = MiniBatchKMeans(n_clusters = noOfRegions, batch_size = 10000).fit(coord)\n",
    "    regionCenters = regions.cluster_centers_ \n",
    "    totalClusters = len(regionCenters)\n",
    "    return regionCenters, totalClusters"
   ]
  },
  {
   "cell_type": "code",
   "execution_count": 37,
   "metadata": {
    "colab": {
     "base_uri": "https://localhost:8080/",
     "height": 799
    },
    "colab_type": "code",
    "id": "cQ4j_KHqYa0d",
    "outputId": "f96fb187-7aad-4620-cb59-5544bab3f46d"
   },
   "outputs": [
    {
     "name": "stdout",
     "output_type": "stream",
     "text": [
      "On choosing a cluster size of 10\n",
      "Avg. Number clusters within vicinity where inter cluster distance < 2 miles is 2.0\n",
      "Avg. Number clusters outside of vicinity where inter cluster distance > 2 miles is 8.0\n",
      "Minimum distance between any two clusters = 0.8839277436615148\n",
      "----------\n",
      "On choosing a cluster size of 20\n",
      "Avg. Number clusters within vicinity where inter cluster distance < 2 miles is 5.0\n",
      "Avg. Number clusters outside of vicinity where inter cluster distance > 2 miles is 15.0\n",
      "Minimum distance between any two clusters = 0.670818012656635\n",
      "----------\n",
      "On choosing a cluster size of 30\n",
      "Avg. Number clusters within vicinity where inter cluster distance < 2 miles is 7.0\n",
      "Avg. Number clusters outside of vicinity where inter cluster distance > 2 miles is 23.0\n",
      "Minimum distance between any two clusters = 0.4616328394251025\n",
      "----------\n",
      "On choosing a cluster size of 40\n",
      "Avg. Number clusters within vicinity where inter cluster distance < 2 miles is 11.0\n",
      "Avg. Number clusters outside of vicinity where inter cluster distance > 2 miles is 29.0\n",
      "Minimum distance between any two clusters = 0.38453175086373725\n",
      "----------\n",
      "On choosing a cluster size of 50\n",
      "Avg. Number clusters within vicinity where inter cluster distance < 2 miles is 12.0\n",
      "Avg. Number clusters outside of vicinity where inter cluster distance > 2 miles is 38.0\n",
      "Minimum distance between any two clusters = 0.37137252442168306\n",
      "----------\n",
      "On choosing a cluster size of 60\n",
      "Avg. Number clusters within vicinity where inter cluster distance < 2 miles is 14.0\n",
      "Avg. Number clusters outside of vicinity where inter cluster distance > 2 miles is 46.0\n",
      "Minimum distance between any two clusters = 0.37533695655677\n",
      "----------\n",
      "On choosing a cluster size of 70\n",
      "Avg. Number clusters within vicinity where inter cluster distance < 2 miles is 19.0\n",
      "Avg. Number clusters outside of vicinity where inter cluster distance > 2 miles is 51.0\n",
      "Minimum distance between any two clusters = 0.23711495261349888\n",
      "----------\n",
      "On choosing a cluster size of 80\n",
      "Avg. Number clusters within vicinity where inter cluster distance < 2 miles is 21.0\n",
      "Avg. Number clusters outside of vicinity where inter cluster distance > 2 miles is 59.0\n",
      "Minimum distance between any two clusters = 0.2580886133029205\n",
      "----------\n",
      "On choosing a cluster size of 90\n",
      "Avg. Number clusters within vicinity where inter cluster distance < 2 miles is 26.0\n",
      "Avg. Number clusters outside of vicinity where inter cluster distance > 2 miles is 64.0\n",
      "Minimum distance between any two clusters = 0.23638418974504435\n",
      "----------\n",
      "Time taken = 0:01:13.215108\n"
     ]
    }
   ],
   "source": [
    "startTime = datetime.now()\n",
    "for i in range(10, 100, 10):\n",
    "    regionCenters, totalClusters = makingRegions(i)\n",
    "    min_distance(regionCenters, totalClusters)\n",
    "print(\"Time taken = \"+str(datetime.now() - startTime))"
   ]
  },
  {
   "cell_type": "markdown",
   "metadata": {
    "colab_type": "text",
    "id": "UJltlrztYa0e"
   },
   "source": [
    "#### We want the minimum inter cluster distance between any two clusters to be less than 0.5miles and when number of clusters are 30 then this condition is almost meeting. Therefore, we are considering number of clusters to be 30."
   ]
  },
  {
   "cell_type": "code",
   "execution_count": 38,
   "metadata": {
    "colab": {},
    "colab_type": "code",
    "id": "G10NMbP3Ya0f"
   },
   "outputs": [],
   "source": [
    "coord = new_frame_cleaned[[\"pickup_latitude\", \"pickup_longitude\"]].values\n",
    "regions = MiniBatchKMeans(n_clusters = 30, batch_size = 10000).fit(coord)\n",
    "new_frame_cleaned[\"pickup_cluster\"] = regions.predict(new_frame_cleaned[[\"pickup_latitude\", \"pickup_longitude\"]])"
   ]
  },
  {
   "cell_type": "code",
   "execution_count": 39,
   "metadata": {
    "colab": {
     "base_uri": "https://localhost:8080/",
     "height": 224
    },
    "colab_type": "code",
    "id": "LXgwOtakYa0h",
    "outputId": "f192dd33-efc6-4d38-833d-84e1905dd4a3"
   },
   "outputs": [
    {
     "data": {
      "text/html": [
       "<div>\n",
       "<style scoped>\n",
       "    .dataframe tbody tr th:only-of-type {\n",
       "        vertical-align: middle;\n",
       "    }\n",
       "\n",
       "    .dataframe tbody tr th {\n",
       "        vertical-align: top;\n",
       "    }\n",
       "\n",
       "    .dataframe thead th {\n",
       "        text-align: right;\n",
       "    }\n",
       "</style>\n",
       "<table border=\"1\" class=\"dataframe\">\n",
       "  <thead>\n",
       "    <tr style=\"text-align: right;\">\n",
       "      <th></th>\n",
       "      <th>passenger_count</th>\n",
       "      <th>trip_distance</th>\n",
       "      <th>pickup_longitude</th>\n",
       "      <th>pickup_latitude</th>\n",
       "      <th>dropoff_longitude</th>\n",
       "      <th>dropoff_latitude</th>\n",
       "      <th>total_amount</th>\n",
       "      <th>trip_duration</th>\n",
       "      <th>pickup_time</th>\n",
       "      <th>speed</th>\n",
       "      <th>pickup_cluster</th>\n",
       "    </tr>\n",
       "  </thead>\n",
       "  <tbody>\n",
       "    <tr>\n",
       "      <th>0</th>\n",
       "      <td>1</td>\n",
       "      <td>1.59</td>\n",
       "      <td>-73.993896</td>\n",
       "      <td>40.750111</td>\n",
       "      <td>-73.974785</td>\n",
       "      <td>40.750618</td>\n",
       "      <td>17.05</td>\n",
       "      <td>18.050000</td>\n",
       "      <td>1.421338e+09</td>\n",
       "      <td>5.285319</td>\n",
       "      <td>10</td>\n",
       "    </tr>\n",
       "    <tr>\n",
       "      <th>1</th>\n",
       "      <td>1</td>\n",
       "      <td>3.30</td>\n",
       "      <td>-74.001648</td>\n",
       "      <td>40.724243</td>\n",
       "      <td>-73.994415</td>\n",
       "      <td>40.759109</td>\n",
       "      <td>17.80</td>\n",
       "      <td>19.833333</td>\n",
       "      <td>1.420911e+09</td>\n",
       "      <td>9.983193</td>\n",
       "      <td>8</td>\n",
       "    </tr>\n",
       "    <tr>\n",
       "      <th>2</th>\n",
       "      <td>1</td>\n",
       "      <td>1.80</td>\n",
       "      <td>-73.963341</td>\n",
       "      <td>40.802788</td>\n",
       "      <td>-73.951820</td>\n",
       "      <td>40.824413</td>\n",
       "      <td>10.80</td>\n",
       "      <td>10.050000</td>\n",
       "      <td>1.420911e+09</td>\n",
       "      <td>10.746269</td>\n",
       "      <td>7</td>\n",
       "    </tr>\n",
       "    <tr>\n",
       "      <th>3</th>\n",
       "      <td>1</td>\n",
       "      <td>0.50</td>\n",
       "      <td>-74.009087</td>\n",
       "      <td>40.713818</td>\n",
       "      <td>-74.004326</td>\n",
       "      <td>40.719986</td>\n",
       "      <td>4.80</td>\n",
       "      <td>1.866667</td>\n",
       "      <td>1.420911e+09</td>\n",
       "      <td>16.071429</td>\n",
       "      <td>13</td>\n",
       "    </tr>\n",
       "    <tr>\n",
       "      <th>4</th>\n",
       "      <td>1</td>\n",
       "      <td>3.00</td>\n",
       "      <td>-73.971176</td>\n",
       "      <td>40.762428</td>\n",
       "      <td>-74.004181</td>\n",
       "      <td>40.742653</td>\n",
       "      <td>16.30</td>\n",
       "      <td>19.316667</td>\n",
       "      <td>1.420911e+09</td>\n",
       "      <td>9.318378</td>\n",
       "      <td>6</td>\n",
       "    </tr>\n",
       "  </tbody>\n",
       "</table>\n",
       "</div>"
      ],
      "text/plain": [
       "   passenger_count  trip_distance  pickup_longitude  pickup_latitude  \\\n",
       "0                1           1.59        -73.993896        40.750111   \n",
       "1                1           3.30        -74.001648        40.724243   \n",
       "2                1           1.80        -73.963341        40.802788   \n",
       "3                1           0.50        -74.009087        40.713818   \n",
       "4                1           3.00        -73.971176        40.762428   \n",
       "\n",
       "   dropoff_longitude  dropoff_latitude  total_amount  trip_duration  \\\n",
       "0         -73.974785         40.750618         17.05      18.050000   \n",
       "1         -73.994415         40.759109         17.80      19.833333   \n",
       "2         -73.951820         40.824413         10.80      10.050000   \n",
       "3         -74.004326         40.719986          4.80       1.866667   \n",
       "4         -74.004181         40.742653         16.30      19.316667   \n",
       "\n",
       "    pickup_time      speed  pickup_cluster  \n",
       "0  1.421338e+09   5.285319              10  \n",
       "1  1.420911e+09   9.983193               8  \n",
       "2  1.420911e+09  10.746269               7  \n",
       "3  1.420911e+09  16.071429              13  \n",
       "4  1.420911e+09   9.318378               6  "
      ]
     },
     "execution_count": 39,
     "metadata": {},
     "output_type": "execute_result"
    }
   ],
   "source": [
    "new_frame_cleaned.head()"
   ]
  },
  {
   "cell_type": "markdown",
   "metadata": {
    "colab_type": "text",
    "id": "Vt6yhFcGYa0j"
   },
   "source": [
    "#### Plotting cluster centers"
   ]
  },
  {
   "cell_type": "code",
   "execution_count": 40,
   "metadata": {
    "colab": {
     "base_uri": "https://localhost:8080/",
     "height": 1000
    },
    "colab_type": "code",
    "id": "ZPKchMIxYa0j",
    "outputId": "46b97749-abd9-4b3c-a01e-ec3963e7326b"
   },
   "outputs": [],
   "source": [
    "# centerOfRegions = regions.cluster_centers_\n",
    "# noOfClusters = len(centerOfRegions)\n",
    "# m = folium.Map(location = [40.9176, -73.7004], tiles = \"Stamen Toner\")\n",
    "\n",
    "# for i in range(noOfClusters):\n",
    "#     folium.Marker([centerOfRegions[i][0], centerOfRegions[i][1]], popup = (str(np.round(centerOfRegions[i][0], 2))+\", \"+str(np.round(centerOfRegions[i][1], 2)))).add_to(m)\n",
    "# m"
   ]
  },
  {
   "cell_type": "markdown",
   "metadata": {
    "colab_type": "text",
    "id": "nJPFXlnAYa0m"
   },
   "source": [
    "#### Plotting Regions in NYC"
   ]
  },
  {
   "cell_type": "code",
   "execution_count": 41,
   "metadata": {
    "colab": {
     "base_uri": "https://localhost:8080/",
     "height": 17
    },
    "colab_type": "code",
    "id": "Uy2tPMZ3Ya0n",
    "outputId": "ebc493fa-1b9f-4ab6-eb18-92f725ef489c",
    "scrolled": false
   },
   "outputs": [
    {
     "data": {
      "image/png": "[encoded data removed]",
      "text/plain": [
       "<Figure size 432x288 with 1 Axes>"
      ]
     },
     "metadata": {
      "needs_background": "light"
     },
     "output_type": "display_data"
    }
   ],
   "source": [
    "NYC_latitude_range = (40.5774, 40.9176)\n",
    "NYC_Longitude_range = (-74.15, -73.7004)\n",
    "fig = plt.figure()\n",
    "ax = fig.add_axes([0,0,1.5,1.5])\n",
    "ax.scatter(x = new_frame_cleaned.pickup_longitude.values[:70000], y = new_frame_cleaned.pickup_latitude.values[:70000], c = new_frame_cleaned.pickup_cluster.values[:70000], cmap = \"Paired\", s = 5)\n",
    "ax.set_xlim(-74.10, -73.72)\n",
    "ax.set_ylim(40.5774, 40.9176)\n",
    "ax.set_title(\"Regions in New York City\")\n",
    "ax.set_xlabel('Longitude')\n",
    "ax.set_ylabel('Latitude')\n",
    "plt.show()\n",
    "#Longitude values vary from left to right i.e., horizontally\n",
    "#Latitude values vary from top to bottom means i.e., vertically"
   ]
  },
  {
   "cell_type": "markdown",
   "metadata": {
    "colab_type": "text",
    "id": "EsOBbcPHYa0p"
   },
   "source": [
    "## Time Binning"
   ]
  },
  {
   "cell_type": "code",
   "execution_count": 42,
   "metadata": {
    "colab": {},
    "colab_type": "code",
    "id": "fcjoNGmjYa0p"
   },
   "outputs": [],
   "source": [
    "# 1420070400 : 2015-01-01 00:00:00   (Equivalent unix time)\n",
    "# 1451606400 : 2016-01-01 00:00:00   (Equivalent unix time)\n",
    "\n",
    "def pickup_10min_bins(dataframe, month, year):\n",
    "    pickupTime = dataframe[\"pickup_time\"].values\n",
    "    unixTime = [1420070400, 1451606400]\n",
    "    unix_year = unixTime[year-2015]\n",
    "    time_10min_bin = [int((i - unix_year)/600) for i in pickupTime]\n",
    "    dataframe[\"time_bin\"] = np.array(time_10min_bin)\n",
    "    return dataframe"
   ]
  },
  {
   "cell_type": "code",
   "execution_count": 43,
   "metadata": {
    "colab": {},
    "colab_type": "code",
    "id": "FDUt66_WYa0t"
   },
   "outputs": [],
   "source": [
    "jan_2015_data = pickup_10min_bins(new_frame_cleaned, 1, 2015)"
   ]
  },
  {
   "cell_type": "code",
   "execution_count": 44,
   "metadata": {
    "colab": {
     "base_uri": "https://localhost:8080/",
     "height": 224
    },
    "colab_type": "code",
    "id": "bKu5ozCQYa0u",
    "outputId": "160ad000-49d1-4f6e-9a2e-99733146ea0c"
   },
   "outputs": [
    {
     "data": {
      "text/html": [
       "<div>\n",
       "<style scoped>\n",
       "    .dataframe tbody tr th:only-of-type {\n",
       "        vertical-align: middle;\n",
       "    }\n",
       "\n",
       "    .dataframe tbody tr th {\n",
       "        vertical-align: top;\n",
       "    }\n",
       "\n",
       "    .dataframe thead th {\n",
       "        text-align: right;\n",
       "    }\n",
       "</style>\n",
       "<table border=\"1\" class=\"dataframe\">\n",
       "  <thead>\n",
       "    <tr style=\"text-align: right;\">\n",
       "      <th></th>\n",
       "      <th>passenger_count</th>\n",
       "      <th>trip_distance</th>\n",
       "      <th>pickup_longitude</th>\n",
       "      <th>pickup_latitude</th>\n",
       "      <th>dropoff_longitude</th>\n",
       "      <th>dropoff_latitude</th>\n",
       "      <th>total_amount</th>\n",
       "      <th>trip_duration</th>\n",
       "      <th>pickup_time</th>\n",
       "      <th>speed</th>\n",
       "      <th>pickup_cluster</th>\n",
       "      <th>time_bin</th>\n",
       "    </tr>\n",
       "  </thead>\n",
       "  <tbody>\n",
       "    <tr>\n",
       "      <th>0</th>\n",
       "      <td>1</td>\n",
       "      <td>1.59</td>\n",
       "      <td>-73.993896</td>\n",
       "      <td>40.750111</td>\n",
       "      <td>-73.974785</td>\n",
       "      <td>40.750618</td>\n",
       "      <td>17.05</td>\n",
       "      <td>18.050000</td>\n",
       "      <td>1.421338e+09</td>\n",
       "      <td>5.285319</td>\n",
       "      <td>10</td>\n",
       "      <td>2112</td>\n",
       "    </tr>\n",
       "    <tr>\n",
       "      <th>1</th>\n",
       "      <td>1</td>\n",
       "      <td>3.30</td>\n",
       "      <td>-74.001648</td>\n",
       "      <td>40.724243</td>\n",
       "      <td>-73.994415</td>\n",
       "      <td>40.759109</td>\n",
       "      <td>17.80</td>\n",
       "      <td>19.833333</td>\n",
       "      <td>1.420911e+09</td>\n",
       "      <td>9.983193</td>\n",
       "      <td>8</td>\n",
       "      <td>1401</td>\n",
       "    </tr>\n",
       "    <tr>\n",
       "      <th>2</th>\n",
       "      <td>1</td>\n",
       "      <td>1.80</td>\n",
       "      <td>-73.963341</td>\n",
       "      <td>40.802788</td>\n",
       "      <td>-73.951820</td>\n",
       "      <td>40.824413</td>\n",
       "      <td>10.80</td>\n",
       "      <td>10.050000</td>\n",
       "      <td>1.420911e+09</td>\n",
       "      <td>10.746269</td>\n",
       "      <td>7</td>\n",
       "      <td>1401</td>\n",
       "    </tr>\n",
       "    <tr>\n",
       "      <th>3</th>\n",
       "      <td>1</td>\n",
       "      <td>0.50</td>\n",
       "      <td>-74.009087</td>\n",
       "      <td>40.713818</td>\n",
       "      <td>-74.004326</td>\n",
       "      <td>40.719986</td>\n",
       "      <td>4.80</td>\n",
       "      <td>1.866667</td>\n",
       "      <td>1.420911e+09</td>\n",
       "      <td>16.071429</td>\n",
       "      <td>13</td>\n",
       "      <td>1401</td>\n",
       "    </tr>\n",
       "    <tr>\n",
       "      <th>4</th>\n",
       "      <td>1</td>\n",
       "      <td>3.00</td>\n",
       "      <td>-73.971176</td>\n",
       "      <td>40.762428</td>\n",
       "      <td>-74.004181</td>\n",
       "      <td>40.742653</td>\n",
       "      <td>16.30</td>\n",
       "      <td>19.316667</td>\n",
       "      <td>1.420911e+09</td>\n",
       "      <td>9.318378</td>\n",
       "      <td>6</td>\n",
       "      <td>1401</td>\n",
       "    </tr>\n",
       "  </tbody>\n",
       "</table>\n",
       "</div>"
      ],
      "text/plain": [
       "   passenger_count  trip_distance  pickup_longitude  pickup_latitude  \\\n",
       "0                1           1.59        -73.993896        40.750111   \n",
       "1                1           3.30        -74.001648        40.724243   \n",
       "2                1           1.80        -73.963341        40.802788   \n",
       "3                1           0.50        -74.009087        40.713818   \n",
       "4                1           3.00        -73.971176        40.762428   \n",
       "\n",
       "   dropoff_longitude  dropoff_latitude  total_amount  trip_duration  \\\n",
       "0         -73.974785         40.750618         17.05      18.050000   \n",
       "1         -73.994415         40.759109         17.80      19.833333   \n",
       "2         -73.951820         40.824413         10.80      10.050000   \n",
       "3         -74.004326         40.719986          4.80       1.866667   \n",
       "4         -74.004181         40.742653         16.30      19.316667   \n",
       "\n",
       "    pickup_time      speed  pickup_cluster  time_bin  \n",
       "0  1.421338e+09   5.285319              10      2112  \n",
       "1  1.420911e+09   9.983193               8      1401  \n",
       "2  1.420911e+09  10.746269               7      1401  \n",
       "3  1.420911e+09  16.071429              13      1401  \n",
       "4  1.420911e+09   9.318378               6      1401  "
      ]
     },
     "execution_count": 44,
     "metadata": {},
     "output_type": "execute_result"
    }
   ],
   "source": [
    "jan_2015_data.head()"
   ]
  },
  {
   "cell_type": "code",
   "execution_count": 45,
   "metadata": {
    "colab": {
     "base_uri": "https://localhost:8080/",
     "height": 54
    },
    "colab_type": "code",
    "id": "-SNR57lJYa0y",
    "outputId": "e1e8c8e7-3ce0-4cca-e559-7bc5f67ddbea"
   },
   "outputs": [
    {
     "name": "stdout",
     "output_type": "stream",
     "text": [
      "There should be ((24*60)/10)*31 unique 10 minute time bins for the month of January 2015:  4464\n"
     ]
    }
   ],
   "source": [
    "print(\"There should be ((24*60)/10)*31 unique 10 minute time bins for the month of January 2015: \", str(len(np.unique(jan_2015_data[\"time_bin\"]))))"
   ]
  },
  {
   "cell_type": "code",
   "execution_count": 46,
   "metadata": {
    "colab": {},
    "colab_type": "code",
    "id": "c-VaIj4sYa0z"
   },
   "outputs": [],
   "source": [
    "jan_2015_timeBin_groupBy = jan_2015_data[[\"pickup_cluster\", \"time_bin\", \"trip_distance\"]].groupby(by = [\"pickup_cluster\", \"time_bin\"]).count()"
   ]
  },
  {
   "cell_type": "code",
   "execution_count": 47,
   "metadata": {
    "colab": {
     "base_uri": "https://localhost:8080/",
     "height": 235
    },
    "colab_type": "code",
    "id": "QIAypSHRYa01",
    "outputId": "f56512b8-de73-4208-ad30-819f0c63427f",
    "scrolled": false
   },
   "outputs": [
    {
     "data": {
      "text/html": [
       "<div>\n",
       "<style scoped>\n",
       "    .dataframe tbody tr th:only-of-type {\n",
       "        vertical-align: middle;\n",
       "    }\n",
       "\n",
       "    .dataframe tbody tr th {\n",
       "        vertical-align: top;\n",
       "    }\n",
       "\n",
       "    .dataframe thead th {\n",
       "        text-align: right;\n",
       "    }\n",
       "</style>\n",
       "<table border=\"1\" class=\"dataframe\">\n",
       "  <thead>\n",
       "    <tr style=\"text-align: right;\">\n",
       "      <th></th>\n",
       "      <th></th>\n",
       "      <th>trip_distance</th>\n",
       "    </tr>\n",
       "    <tr>\n",
       "      <th>pickup_cluster</th>\n",
       "      <th>time_bin</th>\n",
       "      <th></th>\n",
       "    </tr>\n",
       "  </thead>\n",
       "  <tbody>\n",
       "    <tr>\n",
       "      <th rowspan=\"5\" valign=\"top\">0</th>\n",
       "      <th>-17</th>\n",
       "      <td>17</td>\n",
       "    </tr>\n",
       "    <tr>\n",
       "      <th>-16</th>\n",
       "      <td>42</td>\n",
       "    </tr>\n",
       "    <tr>\n",
       "      <th>-15</th>\n",
       "      <td>52</td>\n",
       "    </tr>\n",
       "    <tr>\n",
       "      <th>-14</th>\n",
       "      <td>71</td>\n",
       "    </tr>\n",
       "    <tr>\n",
       "      <th>-13</th>\n",
       "      <td>72</td>\n",
       "    </tr>\n",
       "  </tbody>\n",
       "</table>\n",
       "</div>"
      ],
      "text/plain": [
       "                         trip_distance\n",
       "pickup_cluster time_bin               \n",
       "0              -17                  17\n",
       "               -16                  42\n",
       "               -15                  52\n",
       "               -14                  71\n",
       "               -13                  72"
      ]
     },
     "execution_count": 47,
     "metadata": {},
     "output_type": "execute_result"
    }
   ],
   "source": [
    "jan_2015_timeBin_groupBy.head()"
   ]
  },
  {
   "cell_type": "markdown",
   "metadata": {
    "colab_type": "text",
    "id": "ntvadQLOYa02"
   },
   "source": [
    "## Data Preparation for Januray 2016"
   ]
  },
  {
   "cell_type": "code",
   "execution_count": 48,
   "metadata": {
    "colab": {
     "base_uri": "https://localhost:8080/",
     "height": 561
    },
    "colab_type": "code",
    "id": "lHoWeRIzYa03",
    "outputId": "d6d13601-2b77-4558-c785-e824bd7aa277"
   },
   "outputs": [
    {
     "name": "stdout",
     "output_type": "stream",
     "text": [
      "PREPARATION OF JANUARY 2016 DATA.\n",
      "-----------------------------------\n",
      "Number of columns = 19\n",
      "-----------------------------------\n",
      "Time taken for creation of dataframe is 0:04:05.274906\n",
      "New Frame for Jan 2016 creation done\n",
      "-----------------------------------\n",
      "Trip Duration Outliers removed\n",
      "-----------------------------------\n",
      "Speed Outliers removed\n",
      "-----------------------------------\n",
      "Trip Distance Outliers removed\n",
      "-----------------------------------\n",
      "Total Amount Outliers removed\n",
      "-----------------------------------\n",
      "Pickups outside of NYC are removed\n",
      "-----------------------------------\n",
      "Dropoffs outside of NYC are removed\n",
      "-----------------------------------\n",
      "Pickup Clusters are assigned\n",
      "-----------------------------------\n",
      "Pickup time bins are assigned\n",
      "-----------------------------------\n",
      "Pickup cluster and time bins are grouped.\n",
      "-----------------------------------\n",
      "Done...\n",
      "-----------------------------------\n",
      "Fraction of Total data left = 0.9702401919966318\n",
      "Total Number of outliers removed = 324586\n",
      "-----------------------------------\n",
      "Total Time taken for execution of Jan 2016 data = 0:04:19.231921\n",
      "-----------------------------------\n"
     ]
    }
   ],
   "source": [
    "# Up till now we cleaned data and prepared data for the month of Jan 2015.\n",
    "\n",
    "# now doing the same operations for the month of Jan 2016.\n",
    "\n",
    "# 1. Get the dataframe which includes only required colums.\n",
    "# 2. Add trip_duration, speed, unix time stamp of pickup_time.\n",
    "# 4. Remove the outliers based on trip_duration, speed, trip_distance, total_amount.\n",
    "# 5. Remove all the points where pickup and dropoff are outside of New York City area.\n",
    "# 6. Add pickup_cluster to each data point.\n",
    "# 7. Add time_bin (index of 10min intravel to which that trip belongs to).\n",
    "# 8. Group by data, based on 'pickup_cluster' and 'time_bin'\n",
    "startTime = datetime.now()\n",
    "frame_2016 = dd.read_csv(\"yellow_tripdata_2016-01.csv\")\n",
    "# frame_2016 = pd.read_csv(\"yellow_tripdata_2016-01.csv\")\n",
    "\n",
    "print(\"PREPARATION OF JANUARY 2016 DATA.\")\n",
    "print(\"-\"*35)\n",
    "\n",
    "print(\"Number of columns = \"+str(len(frame_2016.columns)))\n",
    "print(\"-\"*35)\n",
    "\n",
    "new_frame2 = dfWithTripTimes(frame_2016)\n",
    "print(\"New Frame for Jan 2016 creation done\")\n",
    "print(\"-\"*35)\n",
    "\n",
    "new_frame_cleaned2 = new_frame2[(new_frame2.trip_duration>1) & (new_frame2.trip_duration<720)]\n",
    "print(\"Trip Duration Outliers removed\")\n",
    "print(\"-\"*35)\n",
    "\n",
    "new_frame_cleaned2 = new_frame_cleaned2[(new_frame_cleaned2.speed>0) & (new_frame_cleaned2.speed<45.31)]\n",
    "print(\"Speed Outliers removed\")\n",
    "print(\"-\"*35)\n",
    "\n",
    "new_frame_cleaned2 = new_frame_cleaned2[(new_frame_cleaned2.trip_distance>0) & (new_frame_cleaned2.trip_distance<23)]\n",
    "print(\"Trip Distance Outliers removed\")\n",
    "print(\"-\"*35)\n",
    "\n",
    "new_frame_cleaned2 = new_frame_cleaned2[(new_frame_cleaned2.total_amount>0) & (new_frame_cleaned2.total_amount<86.6)]\n",
    "print(\"Total Amount Outliers removed\")\n",
    "print(\"-\"*35)\n",
    "\n",
    "new_frame_cleaned2 = new_frame_cleaned2[(((new_frame_cleaned2.pickup_latitude >= 40.5774) & (new_frame_cleaned2.pickup_latitude <= 40.9176)) & ((new_frame_cleaned2.pickup_longitude >= -74.15) & (new_frame_cleaned2.pickup_longitude <= -73.7004)))]\n",
    "print(\"Pickups outside of NYC are removed\")\n",
    "print(\"-\"*35)\n",
    "\n",
    "new_frame_cleaned2 = new_frame_cleaned2[(((new_frame_cleaned2.dropoff_latitude >= 40.5774) & (new_frame_cleaned2.dropoff_latitude <= 40.9176)) & ((new_frame_cleaned2.dropoff_longitude >= -74.15) & (new_frame_cleaned2.dropoff_longitude <= -73.7004)))]\n",
    "print(\"Dropoffs outside of NYC are removed\")\n",
    "print(\"-\"*35)\n",
    "\n",
    "new_frame_cleaned2[\"pickup_cluster\"] = regions.predict(new_frame_cleaned2[[\"pickup_latitude\", \"pickup_longitude\"]])\n",
    "print(\"Pickup Clusters are assigned\")\n",
    "print(\"-\"*35)\n",
    "\n",
    "jan_2016_data = pickup_10min_bins(new_frame_cleaned2, 1, 2016)\n",
    "print(\"Pickup time bins are assigned\")\n",
    "print(\"-\"*35)\n",
    "\n",
    "jan_2016_timeBin_groupBy = jan_2016_data[[\"pickup_cluster\", \"time_bin\", \"trip_distance\"]].groupby(by = [\"pickup_cluster\", \"time_bin\"]).count()\n",
    "print(\"Pickup cluster and time bins are grouped.\")\n",
    "print(\"-\"*35)\n",
    "\n",
    "print(\"Done...\")\n",
    "print(\"-\"*35)\n",
    "\n",
    "print(\"Fraction of Total data left = \"+str(new_frame_cleaned2.shape[0]/new_frame2.shape[0]))\n",
    "print(\"Total Number of outliers removed = \"+str(new_frame2.shape[0] - new_frame_cleaned2.shape[0]))\n",
    "print(\"-\"*35)\n",
    "\n",
    "print(\"Total Time taken for execution of Jan 2016 data = \"+str(datetime.now() - startTime))\n",
    "print(\"-\"*35)"
   ]
  },
  {
   "cell_type": "code",
   "execution_count": 49,
   "metadata": {
    "colab": {
     "base_uri": "https://localhost:8080/",
     "height": 224
    },
    "colab_type": "code",
    "id": "_rQPn7YkYa04",
    "outputId": "a062274e-94d1-49fd-a74a-6bb07d1b5129"
   },
   "outputs": [
    {
     "data": {
      "text/html": [
       "<div>\n",
       "<style scoped>\n",
       "    .dataframe tbody tr th:only-of-type {\n",
       "        vertical-align: middle;\n",
       "    }\n",
       "\n",
       "    .dataframe tbody tr th {\n",
       "        vertical-align: top;\n",
       "    }\n",
       "\n",
       "    .dataframe thead th {\n",
       "        text-align: right;\n",
       "    }\n",
       "</style>\n",
       "<table border=\"1\" class=\"dataframe\">\n",
       "  <thead>\n",
       "    <tr style=\"text-align: right;\">\n",
       "      <th></th>\n",
       "      <th>passenger_count</th>\n",
       "      <th>trip_distance</th>\n",
       "      <th>pickup_longitude</th>\n",
       "      <th>pickup_latitude</th>\n",
       "      <th>dropoff_longitude</th>\n",
       "      <th>dropoff_latitude</th>\n",
       "      <th>total_amount</th>\n",
       "      <th>trip_duration</th>\n",
       "      <th>pickup_time</th>\n",
       "      <th>speed</th>\n",
       "      <th>pickup_cluster</th>\n",
       "      <th>time_bin</th>\n",
       "    </tr>\n",
       "  </thead>\n",
       "  <tbody>\n",
       "    <tr>\n",
       "      <th>5</th>\n",
       "      <td>2</td>\n",
       "      <td>5.52</td>\n",
       "      <td>-73.980118</td>\n",
       "      <td>40.743050</td>\n",
       "      <td>-73.913490</td>\n",
       "      <td>40.763142</td>\n",
       "      <td>20.3</td>\n",
       "      <td>18.50</td>\n",
       "      <td>1.451596e+09</td>\n",
       "      <td>17.902703</td>\n",
       "      <td>16</td>\n",
       "      <td>-18</td>\n",
       "    </tr>\n",
       "    <tr>\n",
       "      <th>6</th>\n",
       "      <td>2</td>\n",
       "      <td>7.45</td>\n",
       "      <td>-73.994057</td>\n",
       "      <td>40.719990</td>\n",
       "      <td>-73.966362</td>\n",
       "      <td>40.789871</td>\n",
       "      <td>27.3</td>\n",
       "      <td>26.75</td>\n",
       "      <td>1.451596e+09</td>\n",
       "      <td>16.710280</td>\n",
       "      <td>20</td>\n",
       "      <td>-18</td>\n",
       "    </tr>\n",
       "    <tr>\n",
       "      <th>7</th>\n",
       "      <td>1</td>\n",
       "      <td>1.20</td>\n",
       "      <td>-73.979424</td>\n",
       "      <td>40.744614</td>\n",
       "      <td>-73.992035</td>\n",
       "      <td>40.753944</td>\n",
       "      <td>10.3</td>\n",
       "      <td>11.90</td>\n",
       "      <td>1.451596e+09</td>\n",
       "      <td>6.050420</td>\n",
       "      <td>16</td>\n",
       "      <td>-17</td>\n",
       "    </tr>\n",
       "    <tr>\n",
       "      <th>8</th>\n",
       "      <td>1</td>\n",
       "      <td>6.00</td>\n",
       "      <td>-73.947151</td>\n",
       "      <td>40.791046</td>\n",
       "      <td>-73.920769</td>\n",
       "      <td>40.865578</td>\n",
       "      <td>19.3</td>\n",
       "      <td>11.20</td>\n",
       "      <td>1.451596e+09</td>\n",
       "      <td>32.142857</td>\n",
       "      <td>12</td>\n",
       "      <td>-17</td>\n",
       "    </tr>\n",
       "    <tr>\n",
       "      <th>9</th>\n",
       "      <td>1</td>\n",
       "      <td>3.21</td>\n",
       "      <td>-73.998344</td>\n",
       "      <td>40.723896</td>\n",
       "      <td>-73.995850</td>\n",
       "      <td>40.688400</td>\n",
       "      <td>12.8</td>\n",
       "      <td>11.10</td>\n",
       "      <td>1.451596e+09</td>\n",
       "      <td>17.351351</td>\n",
       "      <td>8</td>\n",
       "      <td>-17</td>\n",
       "    </tr>\n",
       "  </tbody>\n",
       "</table>\n",
       "</div>"
      ],
      "text/plain": [
       "   passenger_count  trip_distance  pickup_longitude  pickup_latitude  \\\n",
       "5                2           5.52        -73.980118        40.743050   \n",
       "6                2           7.45        -73.994057        40.719990   \n",
       "7                1           1.20        -73.979424        40.744614   \n",
       "8                1           6.00        -73.947151        40.791046   \n",
       "9                1           3.21        -73.998344        40.723896   \n",
       "\n",
       "   dropoff_longitude  dropoff_latitude  total_amount  trip_duration  \\\n",
       "5         -73.913490         40.763142          20.3          18.50   \n",
       "6         -73.966362         40.789871          27.3          26.75   \n",
       "7         -73.992035         40.753944          10.3          11.90   \n",
       "8         -73.920769         40.865578          19.3          11.20   \n",
       "9         -73.995850         40.688400          12.8          11.10   \n",
       "\n",
       "    pickup_time      speed  pickup_cluster  time_bin  \n",
       "5  1.451596e+09  17.902703              16       -18  \n",
       "6  1.451596e+09  16.710280              20       -18  \n",
       "7  1.451596e+09   6.050420              16       -17  \n",
       "8  1.451596e+09  32.142857              12       -17  \n",
       "9  1.451596e+09  17.351351               8       -17  "
      ]
     },
     "execution_count": 49,
     "metadata": {},
     "output_type": "execute_result"
    }
   ],
   "source": [
    "jan_2016_data.head()"
   ]
  },
  {
   "cell_type": "code",
   "execution_count": 50,
   "metadata": {
    "colab": {
     "base_uri": "https://localhost:8080/",
     "height": 235
    },
    "colab_type": "code",
    "id": "eVKuiT1AYa06",
    "outputId": "8191c34c-2738-4199-9862-1c56ccf0dfeb"
   },
   "outputs": [
    {
     "data": {
      "text/html": [
       "<div>\n",
       "<style scoped>\n",
       "    .dataframe tbody tr th:only-of-type {\n",
       "        vertical-align: middle;\n",
       "    }\n",
       "\n",
       "    .dataframe tbody tr th {\n",
       "        vertical-align: top;\n",
       "    }\n",
       "\n",
       "    .dataframe thead th {\n",
       "        text-align: right;\n",
       "    }\n",
       "</style>\n",
       "<table border=\"1\" class=\"dataframe\">\n",
       "  <thead>\n",
       "    <tr style=\"text-align: right;\">\n",
       "      <th></th>\n",
       "      <th></th>\n",
       "      <th>trip_distance</th>\n",
       "    </tr>\n",
       "    <tr>\n",
       "      <th>pickup_cluster</th>\n",
       "      <th>time_bin</th>\n",
       "      <th></th>\n",
       "    </tr>\n",
       "  </thead>\n",
       "  <tbody>\n",
       "    <tr>\n",
       "      <th rowspan=\"5\" valign=\"top\">0</th>\n",
       "      <th>-17</th>\n",
       "      <td>15</td>\n",
       "    </tr>\n",
       "    <tr>\n",
       "      <th>-16</th>\n",
       "      <td>31</td>\n",
       "    </tr>\n",
       "    <tr>\n",
       "      <th>-15</th>\n",
       "      <td>44</td>\n",
       "    </tr>\n",
       "    <tr>\n",
       "      <th>-14</th>\n",
       "      <td>61</td>\n",
       "    </tr>\n",
       "    <tr>\n",
       "      <th>-13</th>\n",
       "      <td>66</td>\n",
       "    </tr>\n",
       "  </tbody>\n",
       "</table>\n",
       "</div>"
      ],
      "text/plain": [
       "                         trip_distance\n",
       "pickup_cluster time_bin               \n",
       "0              -17                  15\n",
       "               -16                  31\n",
       "               -15                  44\n",
       "               -14                  61\n",
       "               -13                  66"
      ]
     },
     "execution_count": 50,
     "metadata": {},
     "output_type": "execute_result"
    }
   ],
   "source": [
    "jan_2016_timeBin_groupBy.head()"
   ]
  },
  {
   "cell_type": "code",
   "execution_count": 51,
   "metadata": {
    "colab": {
     "base_uri": "https://localhost:8080/",
     "height": 224
    },
    "colab_type": "code",
    "id": "N5J3TEpWYa07",
    "outputId": "916e5a80-3404-4315-ad52-7b515d47ca25"
   },
   "outputs": [
    {
     "data": {
      "text/html": [
       "<div>\n",
       "<style scoped>\n",
       "    .dataframe tbody tr th:only-of-type {\n",
       "        vertical-align: middle;\n",
       "    }\n",
       "\n",
       "    .dataframe tbody tr th {\n",
       "        vertical-align: top;\n",
       "    }\n",
       "\n",
       "    .dataframe thead th {\n",
       "        text-align: right;\n",
       "    }\n",
       "</style>\n",
       "<table border=\"1\" class=\"dataframe\">\n",
       "  <thead>\n",
       "    <tr style=\"text-align: right;\">\n",
       "      <th></th>\n",
       "      <th>passenger_count</th>\n",
       "      <th>trip_distance</th>\n",
       "      <th>pickup_longitude</th>\n",
       "      <th>pickup_latitude</th>\n",
       "      <th>dropoff_longitude</th>\n",
       "      <th>dropoff_latitude</th>\n",
       "      <th>total_amount</th>\n",
       "      <th>trip_duration</th>\n",
       "      <th>pickup_time</th>\n",
       "      <th>speed</th>\n",
       "      <th>pickup_cluster</th>\n",
       "      <th>time_bin</th>\n",
       "    </tr>\n",
       "  </thead>\n",
       "  <tbody>\n",
       "    <tr>\n",
       "      <th>0</th>\n",
       "      <td>1</td>\n",
       "      <td>1.59</td>\n",
       "      <td>-73.993896</td>\n",
       "      <td>40.750111</td>\n",
       "      <td>-73.974785</td>\n",
       "      <td>40.750618</td>\n",
       "      <td>17.05</td>\n",
       "      <td>18.050000</td>\n",
       "      <td>1.421338e+09</td>\n",
       "      <td>5.285319</td>\n",
       "      <td>10</td>\n",
       "      <td>2112</td>\n",
       "    </tr>\n",
       "    <tr>\n",
       "      <th>1</th>\n",
       "      <td>1</td>\n",
       "      <td>3.30</td>\n",
       "      <td>-74.001648</td>\n",
       "      <td>40.724243</td>\n",
       "      <td>-73.994415</td>\n",
       "      <td>40.759109</td>\n",
       "      <td>17.80</td>\n",
       "      <td>19.833333</td>\n",
       "      <td>1.420911e+09</td>\n",
       "      <td>9.983193</td>\n",
       "      <td>8</td>\n",
       "      <td>1401</td>\n",
       "    </tr>\n",
       "    <tr>\n",
       "      <th>2</th>\n",
       "      <td>1</td>\n",
       "      <td>1.80</td>\n",
       "      <td>-73.963341</td>\n",
       "      <td>40.802788</td>\n",
       "      <td>-73.951820</td>\n",
       "      <td>40.824413</td>\n",
       "      <td>10.80</td>\n",
       "      <td>10.050000</td>\n",
       "      <td>1.420911e+09</td>\n",
       "      <td>10.746269</td>\n",
       "      <td>7</td>\n",
       "      <td>1401</td>\n",
       "    </tr>\n",
       "    <tr>\n",
       "      <th>3</th>\n",
       "      <td>1</td>\n",
       "      <td>0.50</td>\n",
       "      <td>-74.009087</td>\n",
       "      <td>40.713818</td>\n",
       "      <td>-74.004326</td>\n",
       "      <td>40.719986</td>\n",
       "      <td>4.80</td>\n",
       "      <td>1.866667</td>\n",
       "      <td>1.420911e+09</td>\n",
       "      <td>16.071429</td>\n",
       "      <td>13</td>\n",
       "      <td>1401</td>\n",
       "    </tr>\n",
       "    <tr>\n",
       "      <th>4</th>\n",
       "      <td>1</td>\n",
       "      <td>3.00</td>\n",
       "      <td>-73.971176</td>\n",
       "      <td>40.762428</td>\n",
       "      <td>-74.004181</td>\n",
       "      <td>40.742653</td>\n",
       "      <td>16.30</td>\n",
       "      <td>19.316667</td>\n",
       "      <td>1.420911e+09</td>\n",
       "      <td>9.318378</td>\n",
       "      <td>6</td>\n",
       "      <td>1401</td>\n",
       "    </tr>\n",
       "  </tbody>\n",
       "</table>\n",
       "</div>"
      ],
      "text/plain": [
       "   passenger_count  trip_distance  pickup_longitude  pickup_latitude  \\\n",
       "0                1           1.59        -73.993896        40.750111   \n",
       "1                1           3.30        -74.001648        40.724243   \n",
       "2                1           1.80        -73.963341        40.802788   \n",
       "3                1           0.50        -74.009087        40.713818   \n",
       "4                1           3.00        -73.971176        40.762428   \n",
       "\n",
       "   dropoff_longitude  dropoff_latitude  total_amount  trip_duration  \\\n",
       "0         -73.974785         40.750618         17.05      18.050000   \n",
       "1         -73.994415         40.759109         17.80      19.833333   \n",
       "2         -73.951820         40.824413         10.80      10.050000   \n",
       "3         -74.004326         40.719986          4.80       1.866667   \n",
       "4         -74.004181         40.742653         16.30      19.316667   \n",
       "\n",
       "    pickup_time      speed  pickup_cluster  time_bin  \n",
       "0  1.421338e+09   5.285319              10      2112  \n",
       "1  1.420911e+09   9.983193               8      1401  \n",
       "2  1.420911e+09  10.746269               7      1401  \n",
       "3  1.420911e+09  16.071429              13      1401  \n",
       "4  1.420911e+09   9.318378               6      1401  "
      ]
     },
     "execution_count": 51,
     "metadata": {},
     "output_type": "execute_result"
    }
   ],
   "source": [
    "jan_2015_data.head()"
   ]
  },
  {
   "cell_type": "code",
   "execution_count": 52,
   "metadata": {
    "colab": {
     "base_uri": "https://localhost:8080/",
     "height": 235
    },
    "colab_type": "code",
    "id": "EsntCvxBYa09",
    "outputId": "c532666c-0427-414f-c8b3-abc64b0fd852"
   },
   "outputs": [
    {
     "data": {
      "text/html": [
       "<div>\n",
       "<style scoped>\n",
       "    .dataframe tbody tr th:only-of-type {\n",
       "        vertical-align: middle;\n",
       "    }\n",
       "\n",
       "    .dataframe tbody tr th {\n",
       "        vertical-align: top;\n",
       "    }\n",
       "\n",
       "    .dataframe thead th {\n",
       "        text-align: right;\n",
       "    }\n",
       "</style>\n",
       "<table border=\"1\" class=\"dataframe\">\n",
       "  <thead>\n",
       "    <tr style=\"text-align: right;\">\n",
       "      <th></th>\n",
       "      <th></th>\n",
       "      <th>trip_distance</th>\n",
       "    </tr>\n",
       "    <tr>\n",
       "      <th>pickup_cluster</th>\n",
       "      <th>time_bin</th>\n",
       "      <th></th>\n",
       "    </tr>\n",
       "  </thead>\n",
       "  <tbody>\n",
       "    <tr>\n",
       "      <th rowspan=\"5\" valign=\"top\">0</th>\n",
       "      <th>-17</th>\n",
       "      <td>17</td>\n",
       "    </tr>\n",
       "    <tr>\n",
       "      <th>-16</th>\n",
       "      <td>42</td>\n",
       "    </tr>\n",
       "    <tr>\n",
       "      <th>-15</th>\n",
       "      <td>52</td>\n",
       "    </tr>\n",
       "    <tr>\n",
       "      <th>-14</th>\n",
       "      <td>71</td>\n",
       "    </tr>\n",
       "    <tr>\n",
       "      <th>-13</th>\n",
       "      <td>72</td>\n",
       "    </tr>\n",
       "  </tbody>\n",
       "</table>\n",
       "</div>"
      ],
      "text/plain": [
       "                         trip_distance\n",
       "pickup_cluster time_bin               \n",
       "0              -17                  17\n",
       "               -16                  42\n",
       "               -15                  52\n",
       "               -14                  71\n",
       "               -13                  72"
      ]
     },
     "execution_count": 52,
     "metadata": {},
     "output_type": "execute_result"
    }
   ],
   "source": [
    "jan_2015_timeBin_groupBy.head()\n",
    "# jan_2015_timeBin_groupBy[\"trip_distance\"].values"
   ]
  },
  {
   "cell_type": "markdown",
   "metadata": {
    "colab_type": "text",
    "id": "0_IStlLrYa0_"
   },
   "source": [
    "## Smoothing"
   ]
  },
  {
   "cell_type": "code",
   "execution_count": 53,
   "metadata": {
    "colab": {},
    "colab_type": "code",
    "id": "16N7Yww0Ya1B"
   },
   "outputs": [],
   "source": [
    "# Gets the unique time bins where pickup values are present for each region.\n",
    "\n",
    "# for each cluster region we will collect all the indices of 10min intervals in which pickups happened.\n",
    "# we got an observation that there are some time bins that doesn't have any pickups.\n",
    "\n",
    "def getUniqueBinsWithPickups(dataframe):\n",
    "    values = []\n",
    "    for i in range(30):          #we have total 30 clusters\n",
    "        cluster_id = dataframe[dataframe[\"pickup_cluster\"] == i]\n",
    "        unique_clus_id = list(set(cluster_id[\"time_bin\"]))\n",
    "        unique_clus_id.sort()   #inplace sorting\n",
    "        values.append(unique_clus_id)\n",
    "    return values\n",
    "#this function is returning the indices of all the unique time_bins where there is a pickup for all the 30 clusters."
   ]
  },
  {
   "cell_type": "code",
   "execution_count": 54,
   "metadata": {
    "colab": {
     "base_uri": "https://localhost:8080/",
     "height": 1000
    },
    "colab_type": "code",
    "id": "hSNMZ5P8Ya1C",
    "outputId": "17439507-964a-4af4-dd76-f8aca38dda30"
   },
   "outputs": [
    {
     "name": "stdout",
     "output_type": "stream",
     "text": [
      "For cluster ID 0, total number of time bins with no pickup in this clutser region is 58\n",
      "------------------------------------------------------------------------------------------\n",
      "For cluster ID 1, total number of time bins with no pickup in this clutser region is 34\n",
      "------------------------------------------------------------------------------------------\n",
      "For cluster ID 2, total number of time bins with no pickup in this clutser region is 117\n",
      "------------------------------------------------------------------------------------------\n",
      "For cluster ID 3, total number of time bins with no pickup in this clutser region is 42\n",
      "------------------------------------------------------------------------------------------\n",
      "For cluster ID 4, total number of time bins with no pickup in this clutser region is 31\n",
      "------------------------------------------------------------------------------------------\n",
      "For cluster ID 5, total number of time bins with no pickup in this clutser region is 36\n",
      "------------------------------------------------------------------------------------------\n",
      "For cluster ID 6, total number of time bins with no pickup in this clutser region is 30\n",
      "------------------------------------------------------------------------------------------\n",
      "For cluster ID 7, total number of time bins with no pickup in this clutser region is 38\n",
      "------------------------------------------------------------------------------------------\n",
      "For cluster ID 8, total number of time bins with no pickup in this clutser region is 29\n",
      "------------------------------------------------------------------------------------------\n",
      "For cluster ID 9, total number of time bins with no pickup in this clutser region is 41\n",
      "------------------------------------------------------------------------------------------\n",
      "For cluster ID 10, total number of time bins with no pickup in this clutser region is 40\n",
      "------------------------------------------------------------------------------------------\n",
      "For cluster ID 11, total number of time bins with no pickup in this clutser region is 112\n",
      "------------------------------------------------------------------------------------------\n",
      "For cluster ID 12, total number of time bins with no pickup in this clutser region is 23\n",
      "------------------------------------------------------------------------------------------\n",
      "For cluster ID 13, total number of time bins with no pickup in this clutser region is 36\n",
      "------------------------------------------------------------------------------------------\n",
      "For cluster ID 14, total number of time bins with no pickup in this clutser region is 29\n",
      "------------------------------------------------------------------------------------------\n",
      "For cluster ID 15, total number of time bins with no pickup in this clutser region is 33\n",
      "------------------------------------------------------------------------------------------\n",
      "For cluster ID 16, total number of time bins with no pickup in this clutser region is 35\n",
      "------------------------------------------------------------------------------------------\n",
      "For cluster ID 17, total number of time bins with no pickup in this clutser region is 29\n",
      "------------------------------------------------------------------------------------------\n",
      "For cluster ID 18, total number of time bins with no pickup in this clutser region is 26\n",
      "------------------------------------------------------------------------------------------\n",
      "For cluster ID 19, total number of time bins with no pickup in this clutser region is 31\n",
      "------------------------------------------------------------------------------------------\n",
      "For cluster ID 20, total number of time bins with no pickup in this clutser region is 33\n",
      "------------------------------------------------------------------------------------------\n",
      "For cluster ID 21, total number of time bins with no pickup in this clutser region is 32\n",
      "------------------------------------------------------------------------------------------\n",
      "For cluster ID 22, total number of time bins with no pickup in this clutser region is 176\n",
      "------------------------------------------------------------------------------------------\n",
      "For cluster ID 23, total number of time bins with no pickup in this clutser region is 47\n",
      "------------------------------------------------------------------------------------------\n",
      "For cluster ID 24, total number of time bins with no pickup in this clutser region is 760\n",
      "------------------------------------------------------------------------------------------\n",
      "For cluster ID 25, total number of time bins with no pickup in this clutser region is 34\n",
      "------------------------------------------------------------------------------------------\n",
      "For cluster ID 26, total number of time bins with no pickup in this clutser region is 33\n",
      "------------------------------------------------------------------------------------------\n",
      "For cluster ID 27, total number of time bins with no pickup in this clutser region is 38\n",
      "------------------------------------------------------------------------------------------\n",
      "For cluster ID 28, total number of time bins with no pickup in this clutser region is 55\n",
      "------------------------------------------------------------------------------------------\n",
      "For cluster ID 29, total number of time bins with no pickup in this clutser region is 39\n",
      "------------------------------------------------------------------------------------------\n"
     ]
    }
   ],
   "source": [
    "#now for Jan-2015, we have to find out, how many time_bins are there where there is no pickup in any of the cluster region\n",
    "unique_binswithPickup_Jan_2015 = getUniqueBinsWithPickups(jan_2015_data)\n",
    "for i in range(30):             #we have total 30 clusters\n",
    "    print(\"For cluster ID {}, total number of time bins with no pickup in this clutser region is {}\".format(i, (4464 - len(unique_binswithPickup_Jan_2015[i]))))\n",
    "    print(\"-\"*90)\n",
    "#there are total 4464 time bins in Jan - 2015.\n",
    "#\"unique_binswithPickup_Jan_2015\" contains all the unique time bins, where pickup happened. It contains 30 sub-arrays as there are 30 clusters\n",
    "#and each sub-array contains the unique ID of all the time bins where pickup happened in the clusters which is the index of that sub-array."
   ]
  },
  {
   "cell_type": "markdown",
   "metadata": {
    "colab_type": "text",
    "id": "Xdd3nk7bYa1G"
   },
   "source": [
    "There are two ways to fill up these values:\n",
    "\n",
    "* Fill the missing value with 0's."
   ]
  },
  {
   "cell_type": "code",
   "execution_count": 55,
   "metadata": {
    "colab": {},
    "colab_type": "code",
    "id": "Abou369JYa1G"
   },
   "outputs": [],
   "source": [
    "# Fill the missing value with 0's.\n",
    "def fillMissingWithZero(numberOfPickups, correspondingTimeBin):\n",
    "    ind = 0\n",
    "    smoothed_regions = []\n",
    "    for c in range(0, 30):\n",
    "        smoothed_bins = []\n",
    "        for t in range(4464):    #there are total 4464 time bins in both Jan-2015 & Feb-2016.\n",
    "            if t in correspondingTimeBin[c]:   #if a time bin is present in \"correspondingTimeBin\" in cluster 'c', \n",
    "            #then it means there is a pickup, in this case, we are simply adding number of pickups, else we are adding 0.\n",
    "                smoothed_bins.append(numberOfPickups[ind])\n",
    "                ind += 1\n",
    "            else:\n",
    "                smoothed_bins.append(0)\n",
    "        smoothed_regions.extend(smoothed_bins)\n",
    "    return smoothed_regions\n",
    "#above function performs the operation in this way: if in any cluster if there is no pickup in any of the 4464 time bins, then \n",
    "#it simply appends 0 in that missing time_bin else it adds the original number of pickups in that time_bins."
   ]
  },
  {
   "cell_type": "code",
   "execution_count": 56,
   "metadata": {
    "colab": {},
    "colab_type": "code",
    "id": "MezYj258Ya1I"
   },
   "outputs": [],
   "source": [
    "def smoothing(numberOfPickups, correspondingTimeBin):\n",
    "    ind = 0\n",
    "    repeat = 0\n",
    "    smoothed_region = []\n",
    "    for cluster in range(0, 30):\n",
    "        smoothed_bin = []\n",
    "        for t1 in range(4464):\n",
    "            if repeat != 0:   #this will ensure that we shall not fill the pickup values again which we already filled by smoothing\n",
    "                repeat -= 1\n",
    "            else:\n",
    "                if t1 in correspondingTimeBin[cluster]:\n",
    "                    smoothed_bin.append(numberOfPickups[ind])\n",
    "                    ind += 1\n",
    "                else:\n",
    "                    if t1 == 0:           \n",
    "    #<---------------------CASE-1:Pickups missing in the beginning------------------------>\n",
    "                        for t2 in range(t1, 4464):\n",
    "                            if t2 not in correspondingTimeBin[cluster]:\n",
    "                                continue\n",
    "                            else:\n",
    "                                right_hand_limit = t2\n",
    "                                smoothed_value = (numberOfPickups[ind]*1.0)/((right_hand_limit + 1)*1.0)\n",
    "                                for i in range(right_hand_limit + 1):\n",
    "                                    smoothed_bin.append(math.ceil(smoothed_value))\n",
    "                                ind += 1\n",
    "                                repeat = right_hand_limit - t1\n",
    "                                \n",
    "                    if t1 != 0:\n",
    "                        right_hand_limit = 0\n",
    "                        for t2 in range(t1, 4464):\n",
    "                            if t2 not in correspondingTimeBin[cluster]:\n",
    "                                continue\n",
    "                            else:\n",
    "                                right_hand_limit = t2\n",
    "                                break\n",
    "                        if right_hand_limit == 0:\n",
    "    #<---------------------CASE-2: Pickups MISSING IN THE END------------------------------>\n",
    "                            smoothed_value = (numberOfPickups[ind-1]*1.0)/(((4464 - t1)+1)*1.0)\n",
    "                            del smoothed_bin[-1]\n",
    "                            for i in range((4464 - t1)+1):\n",
    "                                smoothed_bin.append(math.ceil(smoothed_value))\n",
    "                            repeat = (4464 - t1) - 1    \n",
    "    #<---------------------CASE-3: Pickups MISSING IN MIDDLE OF TWO VALUES----------------> \n",
    "                        else: \n",
    "                            smoothed_value = ((numberOfPickups[ind-1] + numberOfPickups[ind])*1.0)/(((right_hand_limit - t1)+2)*1.0)\n",
    "                            del smoothed_bin[-1]\n",
    "                            for i in range((right_hand_limit - t1)+2):\n",
    "                                smoothed_bin.append(math.ceil(smoothed_value))\n",
    "                            ind += 1\n",
    "                            repeat = right_hand_limit - t1                        \n",
    "        smoothed_region.extend(smoothed_bin)\n",
    "    return smoothed_region\n",
    "\n",
    "# when we multiply any integer with \"1.0\", then it will be converted into float."
   ]
  },
  {
   "cell_type": "code",
   "execution_count": 57,
   "metadata": {
    "colab": {},
    "colab_type": "code",
    "id": "Z1E7IlihYa1L"
   },
   "outputs": [],
   "source": [
    "jan_2015_fillZero = fillMissingWithZero(jan_2015_timeBin_groupBy[\"trip_distance\"].values, unique_binswithPickup_Jan_2015)\n",
    "# here in jan_2015_timeBin_groupBy dataframe the \"trip_distance\" represents the number of pickups that are happened.\n",
    "jan_2015_fillSmooth = smoothing(jan_2015_timeBin_groupBy[\"trip_distance\"].values, unique_binswithPickup_Jan_2015)\n",
    "\n",
    "#\"unique_binswithPickup_Jan_2015\" contains all the unique time bins, where pickup happened. It contains 30 sub-arrays as there are 30 clusters\n",
    "#and each sub-array contains the unique ID of all the time bins where pickup happened in the clusters which is the index of that sub-array."
   ]
  },
  {
   "cell_type": "code",
   "execution_count": 58,
   "metadata": {
    "colab": {},
    "colab_type": "code",
    "id": "kG05oBnOYa1N"
   },
   "outputs": [],
   "source": [
    "def countZeros(num):\n",
    "    count = 0\n",
    "    for i in num:\n",
    "        if i == 0:\n",
    "            count += 1\n",
    "    return count"
   ]
  },
  {
   "cell_type": "code",
   "execution_count": 59,
   "metadata": {
    "colab": {},
    "colab_type": "code",
    "id": "L2qWTEMeYa1P"
   },
   "outputs": [
    {
     "name": "stdout",
     "output_type": "stream",
     "text": [
      "Number of values filled with zero in zero fill data= 2608\n"
     ]
    }
   ],
   "source": [
    "print(\"Number of values filled with zero in zero fill data= \"+str(countZeros(jan_2015_fillZero)))"
   ]
  },
  {
   "cell_type": "code",
   "execution_count": 60,
   "metadata": {
    "colab": {},
    "colab_type": "code",
    "id": "YiidR2G8Ya1R"
   },
   "outputs": [
    {
     "name": "stdout",
     "output_type": "stream",
     "text": [
      "Sanity check for number of zeros in smoothed data = 0\n"
     ]
    }
   ],
   "source": [
    "print(\"Sanity check for number of zeros in smoothed data = \"+str(countZeros(jan_2015_fillSmooth)))"
   ]
  },
  {
   "cell_type": "markdown",
   "metadata": {
    "colab_type": "text",
    "id": "OaQ2KVcLYa1U"
   },
   "source": [
    "There are total 30 clusters. Each cluster has 4464 time bins. After smoothing or fillWithZero, each of 4464 time bin has a pickup. So, there should be a total of <b>4464*30 = 133920</b> pickup values present for the month of January 2015. Let's Check, is it correct?"
   ]
  },
  {
   "cell_type": "code",
   "execution_count": 61,
   "metadata": {
    "colab": {},
    "colab_type": "code",
    "id": "pe1BXJDPYa1V"
   },
   "outputs": [
    {
     "name": "stdout",
     "output_type": "stream",
     "text": [
      "Total number of pickup values = 133920\n",
      "Total number of pickup values = 133920\n"
     ]
    }
   ],
   "source": [
    "print(\"Total number of pickup values = \"+str(len(jan_2015_fillZero)))\n",
    "print(\"Total number of pickup values = \"+str(len(jan_2015_fillSmooth)))"
   ]
  },
  {
   "cell_type": "markdown",
   "metadata": {
    "colab_type": "text",
    "id": "5sZ3nqTlYa1b"
   },
   "source": [
    "#### Above plot is a plot of all the pickup values for cluster 26th. It shows that all the zero filled are separated by avg filled values. The minimum average filled value is 1."
   ]
  },
  {
   "cell_type": "code",
   "execution_count": 62,
   "metadata": {
    "colab": {},
    "colab_type": "code",
    "id": "M5ewkOzIYa1c"
   },
   "outputs": [],
   "source": [
    "unique_binswithPickup_Jan_2016 = getUniqueBinsWithPickups(jan_2016_data)"
   ]
  },
  {
   "cell_type": "code",
   "execution_count": 63,
   "metadata": {
    "colab": {},
    "colab_type": "code",
    "id": "G1J_H9DIYa1d"
   },
   "outputs": [],
   "source": [
    "# Jan-2015 data is smoothed, Jan-2016 data missing values are filled with zero\n",
    "jan_2016_fillZero = fillMissingWithZero(jan_2016_timeBin_groupBy[\"trip_distance\"].values, unique_binswithPickup_Jan_2016)"
   ]
  },
  {
   "cell_type": "code",
   "execution_count": 64,
   "metadata": {
    "colab": {},
    "colab_type": "code",
    "id": "c_L5zQ8RYa1e"
   },
   "outputs": [],
   "source": [
    "regionWisePickup_Jan_2016 = []\n",
    "for i in range(30):\n",
    "    regionWisePickup_Jan_2016.append(jan_2016_fillZero[4464*i:((4464*i)+4464)])\n",
    "#\"regionWisePickup_Jan_2016\" is a list of lists which contains 30 sub lists, where the index of each sub-list is the \n",
    "#corresponding cluster number and the element of each sub-list is the pickup value. So, we know that there are 4464 time bins \n",
    "#in Jan 2016, hence, each sub-list is of size 4464."
   ]
  },
  {
   "cell_type": "code",
   "execution_count": 65,
   "metadata": {
    "colab": {},
    "colab_type": "code",
    "id": "gqPmj5NOYa1f"
   },
   "outputs": [
    {
     "name": "stdout",
     "output_type": "stream",
     "text": [
      "30\n",
      "4464\n"
     ]
    }
   ],
   "source": [
    "print(len(regionWisePickup_Jan_2016))\n",
    "print(len(regionWisePickup_Jan_2016[0]))"
   ]
  },
  {
   "cell_type": "code",
   "execution_count": 66,
   "metadata": {
    "colab": {},
    "colab_type": "code",
    "id": "7xe5kmHGYa1g"
   },
   "outputs": [],
   "source": [
    "def find_missing_timeBins(IDs):\n",
    "    missing = []\n",
    "    for i in range(len(unique_binswithPickup_Jan_2015[IDs]) - 1):\n",
    "        j = unique_binswithPickup_Jan_2015[IDs][i]\n",
    "        k = unique_binswithPickup_Jan_2015[IDs][i+1]\n",
    "        if (k-j) > 1:\n",
    "            for l in range(j+1, k):\n",
    "                missing.append(l)\n",
    "    return missing"
   ]
  },
  {
   "cell_type": "markdown",
   "metadata": {
    "colab_type": "text",
    "id": "vXenuqV3Ya1h"
   },
   "source": [
    "# 4. Baseline Models"
   ]
  },
  {
   "cell_type": "markdown",
   "metadata": {
    "colab_type": "text",
    "id": "SdJdBQmuYa1h"
   },
   "source": [
    "Now we get into modelling in order to forecast the pickup densities for the months of Jan-2016 for which we are using multiple models with two variations. \n",
    "1. Using Ratios of the 2016 data to the 2015 data i.e $R_{t} = P^{2016}_{t} / P^{2015}_{t}$\n",
    "2. Using Previous known values of the 2016 data itself to predict the future values"
   ]
  },
  {
   "cell_type": "markdown",
   "metadata": {
    "colab_type": "text",
    "id": "lOEj57PqYa1h"
   },
   "source": [
    "### Preparing dataframe with $x_i$ as Jan- 2015 pickups and $y_i$ as Jan-2016 Pickups, with ratios as $Pickup^{2016} / Pickup^{2015}.$"
   ]
  },
  {
   "cell_type": "code",
   "execution_count": 67,
   "metadata": {
    "colab": {},
    "colab_type": "code",
    "id": "ApdNJQUvYa1i"
   },
   "outputs": [],
   "source": [
    "Ratios_DF = pd.DataFrame()\n",
    "Ratios_DF[\"Given\"] = jan_2015_fillSmooth\n",
    "Ratios_DF[\"Prediction\"] = jan_2016_fillZero\n",
    "Ratios_DF[\"Ratio\"] = Ratios_DF[\"Prediction\"]*1.0/Ratios_DF[\"Given\"]*1.0"
   ]
  },
  {
   "cell_type": "code",
   "execution_count": 68,
   "metadata": {
    "colab": {},
    "colab_type": "code",
    "id": "M7PGAjihYa1j"
   },
   "outputs": [
    {
     "data": {
      "text/html": [
       "<div>\n",
       "<style scoped>\n",
       "    .dataframe tbody tr th:only-of-type {\n",
       "        vertical-align: middle;\n",
       "    }\n",
       "\n",
       "    .dataframe tbody tr th {\n",
       "        vertical-align: top;\n",
       "    }\n",
       "\n",
       "    .dataframe thead th {\n",
       "        text-align: right;\n",
       "    }\n",
       "</style>\n",
       "<table border=\"1\" class=\"dataframe\">\n",
       "  <thead>\n",
       "    <tr style=\"text-align: right;\">\n",
       "      <th></th>\n",
       "      <th>Given</th>\n",
       "      <th>Prediction</th>\n",
       "      <th>Ratio</th>\n",
       "    </tr>\n",
       "  </thead>\n",
       "  <tbody>\n",
       "    <tr>\n",
       "      <th>0</th>\n",
       "      <td>17</td>\n",
       "      <td>15</td>\n",
       "      <td>0.882353</td>\n",
       "    </tr>\n",
       "    <tr>\n",
       "      <th>1</th>\n",
       "      <td>42</td>\n",
       "      <td>31</td>\n",
       "      <td>0.738095</td>\n",
       "    </tr>\n",
       "    <tr>\n",
       "      <th>2</th>\n",
       "      <td>52</td>\n",
       "      <td>44</td>\n",
       "      <td>0.846154</td>\n",
       "    </tr>\n",
       "    <tr>\n",
       "      <th>3</th>\n",
       "      <td>71</td>\n",
       "      <td>61</td>\n",
       "      <td>0.859155</td>\n",
       "    </tr>\n",
       "    <tr>\n",
       "      <th>4</th>\n",
       "      <td>72</td>\n",
       "      <td>66</td>\n",
       "      <td>0.916667</td>\n",
       "    </tr>\n",
       "  </tbody>\n",
       "</table>\n",
       "</div>"
      ],
      "text/plain": [
       "   Given  Prediction     Ratio\n",
       "0     17          15  0.882353\n",
       "1     42          31  0.738095\n",
       "2     52          44  0.846154\n",
       "3     71          61  0.859155\n",
       "4     72          66  0.916667"
      ]
     },
     "execution_count": 68,
     "metadata": {},
     "output_type": "execute_result"
    }
   ],
   "source": [
    "Ratios_DF.head()"
   ]
  },
  {
   "cell_type": "code",
   "execution_count": 69,
   "metadata": {
    "colab": {},
    "colab_type": "code",
    "id": "cNuRxkXsYa1k"
   },
   "outputs": [
    {
     "data": {
      "text/plain": [
       "(133920, 3)"
      ]
     },
     "execution_count": 69,
     "metadata": {},
     "output_type": "execute_result"
    }
   ],
   "source": [
    "Ratios_DF.shape"
   ]
  },
  {
   "cell_type": "code",
   "execution_count": 70,
   "metadata": {
    "colab": {},
    "colab_type": "code",
    "id": "z9SSOGMXYa1l"
   },
   "outputs": [
    {
     "name": "stdout",
     "output_type": "stream",
     "text": [
      "Total Number of zeros in Ratio column = 4050\n"
     ]
    }
   ],
   "source": [
    "print(\"Total Number of zeros in Ratio column = \"+str(Ratios_DF[\"Ratio\"].value_counts()[0]))"
   ]
  },
  {
   "cell_type": "code",
   "execution_count": 71,
   "metadata": {
    "colab": {},
    "colab_type": "code",
    "id": "IsJwdP5JYa1m"
   },
   "outputs": [
    {
     "name": "stdout",
     "output_type": "stream",
     "text": [
      "Total Number of zeros in Prediction column = 4050\n"
     ]
    }
   ],
   "source": [
    "print(\"Total Number of zeros in Prediction column = \"+str(Ratios_DF[\"Prediction\"].value_counts()[0]))"
   ]
  },
  {
   "cell_type": "markdown",
   "metadata": {
    "colab_type": "text",
    "id": "JrIIZMQUYa1v"
   },
   "source": [
    "## Simple Weighted Moving Average\n",
    "The Moving Avergaes Model used gave equal importance to all the values in the window used, but we know intuitively that the future is more likely to be similar to the latest values and less similar to the older values. Weighted Averages converts this analogy into a mathematical relationship giving the highest weight while computing the averages to the latest previous value and decreasing weights to the subsequent older ones<br>\n",
    "\n",
    "Weighted Moving Averages using Ratio Values: $R_t = (N*R_{t-1} + N-1*R_{t-2} + N-2*R_{T-3} + ...) / N*(N+1)/2$"
   ]
  },
  {
   "cell_type": "markdown",
   "metadata": {
    "colab_type": "text",
    "id": "AeaCfY4TYa1x"
   },
   "source": [
    "For the above the Hyperparameter is the window-size (n) which is tuned manually and it is found that the window-size of 4 is optimal for getting the best results using Weighted Moving Averages using previous Ratio values therefore we get $ R_{t} = ( 4*R_{t-1} + 3*R_{t-2} + 2*R_{t-3} + 1*R_{t-4})/10$"
   ]
  },
  {
   "cell_type": "markdown",
   "metadata": {
    "colab_type": "text",
    "id": "X6Juac-4Ya1x"
   },
   "source": [
    "Weighted Moving Averages using Previous 2016 Values - $P_{t} = ( N*P_{t-1} + (N-1)*P_{t-2} + (N-2)*P_{t-3} .... 1*P_{t-n} )/(N*(N+1)/2)$"
   ]
  },
  {
   "cell_type": "code",
   "execution_count": 72,
   "metadata": {
    "colab": {},
    "colab_type": "code",
    "id": "Wr1FwlAmYa1y"
   },
   "outputs": [],
   "source": [
    "def weighted_moving_average_predictions(ratios):\n",
    "    predicted_pickup = (ratios[\"Prediction\"].values)[0]\n",
    "    predicted_pickup_values = []\n",
    "    absolute_error = []\n",
    "    squared_error = []\n",
    "    window_size = 2\n",
    "    for i in range(4464*30):\n",
    "        if i % 4464 == 0:\n",
    "            predicted_pickup_values.append(0)\n",
    "            absolute_error.append(0)\n",
    "            squared_error.append(0)\n",
    "        else:\n",
    "            predicted_pickup_values.append(predicted_pickup)\n",
    "            absolute_error.append(abs(predicted_pickup_values[i] - ratios[\"Prediction\"].values[i]))\n",
    "            \n",
    "            error = math.pow(int(predicted_pickup_values[i] - ratios[\"Prediction\"].values[i]), 2)\n",
    "            squared_error.append(error)\n",
    "            \n",
    "        if (i+1)>=window_size:\n",
    "            sumPickups = 0\n",
    "            sumOfWeights = 0\n",
    "            for j in range(window_size, 0, -1):\n",
    "                sumPickups = sumPickups + j*(ratios[\"Prediction\"].values)[i -window_size + j]\n",
    "                sumOfWeights = sumOfWeights + j\n",
    "            predicted_pickup = sumPickups/sumOfWeights\n",
    "        else:\n",
    "            sumPickups = 0\n",
    "            sumOfWeights = 0\n",
    "            for j in range(i+1, 0, -1):\n",
    "                sumPickups += j*(ratios[\"Prediction\"].values)[j-1]\n",
    "                sumOfWeights += j\n",
    "            predicted_pickup = sumPickups/sumOfWeights\n",
    "    \n",
    "    ratios[\"Weighted_Moving_Average_Predictions_Pred\"] = predicted_pickup_values\n",
    "    ratios[\"Weighted_Moving_Average_Predictions_AbsError\"] = absolute_error\n",
    "    mean_absolute_percentage_error = (sum(absolute_error)/len(absolute_error)) / (sum(ratios[\"Prediction\"]) / len(ratios[\"Prediction\"]))\n",
    "    mean_sq_error = sum(squared_error)/len(squared_error)\n",
    "    return ratios, mean_absolute_percentage_error, mean_sq_error"
   ]
  },
  {
   "cell_type": "markdown",
   "metadata": {
    "colab_type": "text",
    "id": "l8Sa8qIAYa10"
   },
   "source": [
    "For the above the Hyperparameter is the window-size (n) which is tuned manually and it is found that the window-size of 2 is optimal for getting the best results using Weighted Moving Averages using previous Ratio values therefore we get $ P_t = ( 2*P_{t-1} + 1*P_{t-2})/2$"
   ]
  },
  {
   "cell_type": "markdown",
   "metadata": {
    "colab_type": "text",
    "id": "ufDdnaK3Ya13"
   },
   "source": [
    "Here, above, alpha is a hyper-parameter which needs to be tuned manually. It is found that alpha = 0.5 gives lowest MAPE value."
   ]
  },
  {
   "cell_type": "code",
   "execution_count": 73,
   "metadata": {
    "colab": {},
    "colab_type": "code",
    "id": "p4id0ODeYa15"
   },
   "outputs": [],
   "source": [
    "r4, mape4, mse4 = weighted_moving_average_predictions(Ratios_DF)"
   ]
  },
  {
   "cell_type": "code",
   "execution_count": 74,
   "metadata": {
    "colab": {},
    "colab_type": "code",
    "id": "k98fYZCuYa16"
   },
   "outputs": [],
   "source": [
    "error_table_baseline = pd.DataFrame(columns = [\"Model\", \"MAPE(%)\", \"MSE\"])\n",
    "\n",
    "error_table_baseline = error_table_baseline.append(pd.DataFrame([[\"Weighted Moving Average Predictions\", mape4*100, mse4]], columns = [\"Model\", \"MAPE(%)\", \"MSE\"]))\n",
    "\n",
    "error_table_baseline.reset_index(drop = True, inplace = True)"
   ]
  },
  {
   "cell_type": "code",
   "execution_count": 75,
   "metadata": {
    "colab": {},
    "colab_type": "code",
    "id": "E9-oL8jLYa17"
   },
   "outputs": [
    {
     "data": {
      "text/html": [
       "<style  type=\"text/css\" >\n",
       "    #T_068c4968_fa53_11e9_9834_9fa210f67734row0_col1 {\n",
       "            background-color:  yellow;\n",
       "        }    #T_068c4968_fa53_11e9_9834_9fa210f67734row0_col2 {\n",
       "            background-color:  yellow;\n",
       "        }</style><table id=\"T_068c4968_fa53_11e9_9834_9fa210f67734\" ><thead>    <tr>        <th class=\"blank level0\" ></th>        <th class=\"col_heading level0 col0\" >Model</th>        <th class=\"col_heading level0 col1\" >MAPE(%)</th>        <th class=\"col_heading level0 col2\" >MSE</th>    </tr></thead><tbody>\n",
       "                <tr>\n",
       "                        <th id=\"T_068c4968_fa53_11e9_9834_9fa210f67734level0_row0\" class=\"row_heading level0 row0\" >0</th>\n",
       "                        <td id=\"T_068c4968_fa53_11e9_9834_9fa210f67734row0_col0\" class=\"data row0 col0\" >Weighted Moving Average Predictions</td>\n",
       "                        <td id=\"T_068c4968_fa53_11e9_9834_9fa210f67734row0_col1\" class=\"data row0 col1\" >13.2454</td>\n",
       "                        <td id=\"T_068c4968_fa53_11e9_9834_9fa210f67734row0_col2\" class=\"data row0 col2\" >297.322</td>\n",
       "            </tr>\n",
       "    </tbody></table>"
      ],
      "text/plain": [
       "<pandas.io.formats.style.Styler at 0x7f5bc7e26320>"
      ]
     },
     "execution_count": 75,
     "metadata": {},
     "output_type": "execute_result"
    }
   ],
   "source": [
    "error_table_baseline.style.highlight_min(axis=0)"
   ]
  },
  {
   "cell_type": "markdown",
   "metadata": {
    "colab_type": "text",
    "id": "-B43GSKtYa18"
   },
   "source": [
    "<b>Plese Note:-</b> The above comparisons are made using Jan 2015 and Jan 2016 only"
   ]
  },
  {
   "cell_type": "markdown",
   "metadata": {
    "colab_type": "text",
    "id": "dw9-bJ2PYa18"
   },
   "source": [
    "<b>From the above error table it is inferred that the best forecasting model for our prediction would be:-</b>\n",
    "$P_{t} = ( N*P_{t-1} + (N-1)*P_{t-2} + (N-2)*P_{t-3} .... 1*P_{t-n} )/(N*(N+1)/2)$ i.e Weighted Moving Averages Predictions using 2016 Values."
   ]
  },
  {
   "cell_type": "markdown",
   "metadata": {
    "colab_type": "text",
    "id": "jlLF9fCiYa18"
   },
   "source": [
    "# 5. Regression Models"
   ]
  },
  {
   "cell_type": "markdown",
   "metadata": {
    "colab_type": "text",
    "id": "P-ryPltqYa19"
   },
   "source": [
    "### Preparing Data"
   ]
  },
  {
   "cell_type": "markdown",
   "metadata": {
    "colab_type": "text",
    "id": "ttCAs1tQYa19"
   },
   "source": [
    "Preparing data to be split into train and test, The below code prepares data in cumulative form which will be later split into\n",
    "test and train\n",
    "\n",
    "There are total 30 clusters and for the month of January-2016 and there are total 4464 time bins. \n",
    "For each cluster region there are 4464 time bins and so, for 30 clusters there will be 4464*30 pickup values because after \n",
    "smoothing each time bin has pickup.\n",
    "We will have a total of 4464*30 = 133920 pickup values."
   ]
  },
  {
   "cell_type": "code",
   "execution_count": 76,
   "metadata": {
    "colab": {},
    "colab_type": "code",
    "id": "Hs-6BHAjYa19"
   },
   "outputs": [],
   "source": [
    "# we take number of pickups that are happened in last 5 10min intravels\n",
    "number_of_time_stamps = 5\n",
    "\n",
    "# TruePickups varaible\n",
    "# it is list of lists\n",
    "# It will be used as true labels/ground truth. Now since we are taking previous 5 pickups as a training data for predicting\n",
    "# next pickup(here next pickup will be a true/ground truth pickup), so \"TruePickups\" will not contain first five pickups of each \n",
    "# cluster. It will contain number of pickups 4459 for each cluster. \n",
    "TruePickups = []\n",
    "\n",
    "# lat will contain 4464-5=4459 times latitude of cluster center for every cluster.\n",
    "# Ex: [[cent_lat 4459 times],[cent_lat 4459 times], [cent_lat 4459 times].... 30 lists]\n",
    "# it is list of lists\n",
    "lat = []\n",
    "\n",
    "# lon will contain 4464-5=4459 times longitude of cluster center for every cluster.\n",
    "# Ex: [[cent_lat 4459 times],[cent_lat 4459 times], [cent_lat 4459 times].... 30 lists]\n",
    "# it is list of lists\n",
    "lon = []\n",
    "\n",
    "# we will code each day \n",
    "# sunday = 0, monday=1, tue = 2, wed=3, thur=4, fri=5,sat=6\n",
    "day_of_week = []\n",
    "\n",
    "\n",
    "# for every cluster we will be adding 4459 values, each value represent to which day of the week that pickup bin belongs to\n",
    "# it is list of lists\n",
    "\n",
    "# feat is a numbpy array, of shape (133770, 5). {4459*30 = 133770.}\n",
    "# each row corresponds to an entry in our data\n",
    "# for the first row we will have [f0,f1,f2,f3,f4] fi=number of pickups happened in i+1st 10min intravel(bin)\n",
    "# the second row will have [f1,f2,f3,f4,f5]\n",
    "# the third row will have [f2,f3,f4,f5,f6]\n",
    "# and so on...\n",
    "feat = []\n",
    "\n",
    "\n",
    "centerOfRegions = regions.cluster_centers_\n",
    "feat = [0]*number_of_time_stamps\n",
    "for i in range(30):\n",
    "    lat.append([centerOfRegions[i][0]]*4459) \n",
    "    lon.append([centerOfRegions[i][1]]*4459)\n",
    "    #1 January 2016 is a Friday so we start our day from 5: \"(int(j/144))%7+5\"\n",
    "    # Our prediction starts from 5th 10min interval since we need to have number of pickups that are happened in last 5 pickup bins.\n",
    "    day_of_week.append([int(((int(j/144)%7)+5)%7) for j in range(5, 4464)])\n",
    "    #\"regionWisePickup_Jan_2016\" is a list of lists which contains 30 sub lists, where the index of each sub-list is the \n",
    "    #corresponding cluster number and the element of each sub-list is the pickup value. So, we know that there are 4464 time bins \n",
    "    #in Jan 2016, hence, each sub-list is of size 4464.\n",
    "    #\"regionWisePickup_Jan_2016\" is a list of lists [[x1,x2,x3..4464], [x1,x2,x3..4464], [x1,x2,x3..4464], [x1,x2,x3..4464], [x1,x2,x3..4464], .. 30 lists]\n",
    "    #Here, x1,x2,x3... are pickup values at time stamp 1,2,3... respectively\n",
    "    feat = np.vstack((feat, [regionWisePickup_Jan_2016[i][k:k+number_of_time_stamps] for k in range(0, len(regionWisePickup_Jan_2016[i]) - (number_of_time_stamps))]))\n",
    "    TruePickups.append(regionWisePickup_Jan_2016[i][5:])\n",
    "    #output contains pickup values of all the regions and of each time stamp, except first 5 time stamp pickups of each region.\n",
    "feat = feat[1:]"
   ]
  },
  {
   "cell_type": "code",
   "execution_count": 77,
   "metadata": {
    "colab": {},
    "colab_type": "code",
    "id": "ZDUNlVRgYa1-"
   },
   "outputs": [
    {
     "data": {
      "text/plain": [
       "True"
      ]
     },
     "execution_count": 77,
     "metadata": {},
     "output_type": "execute_result"
    }
   ],
   "source": [
    "len(lat[0])*len(lat) == len(lon[0])*len(lon) == len(day_of_week[0])*len(day_of_week) == 4459*30 == len(feat) == len(TruePickups[0])*len(TruePickups)"
   ]
  },
  {
   "cell_type": "code",
   "execution_count": 78,
   "metadata": {
    "colab": {},
    "colab_type": "code",
    "id": "wOxZcXhsYa1_"
   },
   "outputs": [
    {
     "data": {
      "text/plain": [
       "array([[15, 31, 44, 61, 66],\n",
       "       [31, 44, 61, 66, 70],\n",
       "       [44, 61, 66, 70, 91],\n",
       "       ...,\n",
       "       [ 0,  0,  0,  0,  0],\n",
       "       [ 0,  0,  0,  0,  0],\n",
       "       [ 0,  0,  0,  0,  0]])"
      ]
     },
     "execution_count": 78,
     "metadata": {},
     "output_type": "execute_result"
    }
   ],
   "source": [
    "feat"
   ]
  },
  {
   "cell_type": "markdown",
   "metadata": {
    "colab_type": "text",
    "id": "YgcjmewbYa2A"
   },
   "source": [
    "### Adding Predictions of Weighted Moving Average Predictions as a feature in our data"
   ]
  },
  {
   "cell_type": "markdown",
   "metadata": {
    "colab_type": "text",
    "id": "LQvaUxe1Ya2A"
   },
   "source": [
    "Getting the predictions of weighted moving averages to be used as a feature in cumulative form.\n",
    "\n",
    "Upto now we computed 8 features for every data point that starts from 50th min of the day.\n",
    "1. cluster center latitude\n",
    "2. cluster center longitude\n",
    "3. day of the week \n",
    "4. f_t_1: number of pickups that are happened previous t-1st 10min interval\n",
    "5. f_t_2: number of pickups that are happened previous t-2nd 10min interval\n",
    "6. f_t_3: number of pickups that are happened previous t-3rd 10min interval\n",
    "7. f_t_4: number of pickups that are happened previous t-4th 10min interval\n",
    "8. f_t_5: number of pickups that are happened previous t-5th 10min interval\n",
    "\n",
    "From the baseline models we said that the weighted moving avarage predictions gives us the best error.\n",
    "We will try to add the same weighted moving avarage predictions at time t as a feature to our data.<br>\n",
    "Weighted Moving Average -> $P_{t} = ( N*P_{t-1} + (N-1)*P_{t-2} + (N-2)*P_{t-3} .... 1*P_{t-n} )/(N*(N+1)/2)$"
   ]
  },
  {
   "cell_type": "code",
   "execution_count": 79,
   "metadata": {
    "colab": {},
    "colab_type": "code",
    "id": "nCjYS9urYa2B"
   },
   "outputs": [],
   "source": [
    "# \"predicted_pickup_values\": it is a temporary array that store weighted moving avarag prediction values for each 10min intervl, \n",
    "# for each cluster it will get reset.\n",
    "# for every cluster it contains 4464 values\n",
    "predicted_pickup_values = []\n",
    "\n",
    "# \"predicted_pickup_values_list\"\n",
    "# it is list of lists\n",
    "# predict_list is a list of lists [[x5,x6,x7..x4463], [x5,x6,x7..x4463], [x5,x6,x7..x4463], ... 40 lists]\n",
    "predicted_pickup_values_list = []\n",
    "\n",
    "predicted_value = -1  #it will contain cuurent predicted_value. Default is given -1 which will be replaced later\n",
    "\n",
    "window_size = 2\n",
    "for i in range(30):\n",
    "    for j in range(4464):\n",
    "        if j == 0:\n",
    "            predicted_value = regionWisePickup_Jan_2016[i][j]\n",
    "            predicted_pickup_values.append(0)\n",
    "        else:\n",
    "            if j>=window_size:\n",
    "                sumPickups = 0\n",
    "                sumOfWeights = 0\n",
    "                for k in range(window_size, 0, -1):\n",
    "                    sumPickups += k*(regionWisePickup_Jan_2016[i][j -window_size + (k - 1)])\n",
    "                    sumOfWeights += k\n",
    "                predicted_value = int(sumPickups/sumOfWeights)\n",
    "                predicted_pickup_values.append(predicted_value)\n",
    "            else:\n",
    "                sumPickups = 0\n",
    "                sumOfWeights = 0\n",
    "                for k in range(j, 0, -1):\n",
    "                    sumPickups += k*regionWisePickup_Jan_2016[i][k-1]\n",
    "                    sumOfWeights += k\n",
    "                predicted_value = int(sumPickups/sumOfWeights)\n",
    "                predicted_pickup_values.append(predicted_value)\n",
    "                \n",
    "    predicted_pickup_values_list.append(predicted_pickup_values[5:])\n",
    "    predicted_pickup_values = []"
   ]
  },
  {
   "cell_type": "code",
   "execution_count": 80,
   "metadata": {
    "colab": {},
    "colab_type": "code",
    "id": "XJCF4mPPYa2B"
   },
   "outputs": [
    {
     "data": {
      "text/plain": [
       "True"
      ]
     },
     "execution_count": 80,
     "metadata": {},
     "output_type": "execute_result"
    }
   ],
   "source": [
    "len(predicted_pickup_values_list[0])*len(predicted_pickup_values_list) == 4459*30"
   ]
  },
  {
   "cell_type": "markdown",
   "metadata": {
    "colab_type": "text",
    "id": "1ZZ9LHRrYa2D"
   },
   "source": [
    "### Adding Top 5 Frequencies and Amplitudes of Fourier Transform as features"
   ]
  },
  {
   "cell_type": "code",
   "execution_count": 81,
   "metadata": {
    "colab": {},
    "colab_type": "code",
    "id": "c-7ZL1NFYa2K"
   },
   "outputs": [],
   "source": [
    "amplitude_lists = []\n",
    "frequency_lists = []\n",
    "for i in range(30):\n",
    "    ampli  = np.abs(np.fft.fft(regionWisePickup_Jan_2016[i][0:4096]))\n",
    "    freq = np.abs(np.fft.fftfreq(4096, 1))\n",
    "    ampli_indices = np.argsort(-ampli)[1:]        #it will return an array of indices for which corresponding amplitude values are sorted in reverse order.\n",
    "    amplitude_values = []\n",
    "    frequency_values = []\n",
    "    for j in range(0, 9, 2):   #taking top five amplitudes and frequencies\n",
    "        amplitude_values.append(ampli[ampli_indices[j]])\n",
    "        frequency_values.append(freq[ampli_indices[j]])\n",
    "    for k in range(4459):    #those top 5 frequencies and amplitudes are same for all the points in one cluster\n",
    "        amplitude_lists.append(amplitude_values)\n",
    "        frequency_lists.append(frequency_values) "
   ]
  },
  {
   "cell_type": "markdown",
   "metadata": {
    "colab_type": "text",
    "id": "ri-KPIeIYa2L"
   },
   "source": [
    "<b>Now we have built our all the features. We have finally now following 19 features in our data:</b>\n",
    "1. <b>f_t_1:</b> Number of pickups that are happened previous t-1st 10min interval\n",
    "2. <b>f_t_2:</b> Number of pickups that are happened previous t-2nd 10min interval\n",
    "3. <b>f_t_3:</b> Number of pickups that are happened previous t-3rd 10min interval\n",
    "4. <b>f_t_4:</b> Number of pickups that are happened previous t-4th 10min interval\n",
    "5. <b>f_t_5:</b> Number of pickups that are happened previous t-5th 10min interval \n",
    "6. <b>Freq1:</b> Fourier Frequency corresponding to 1st highest amplitude\n",
    "7. <b>Freq2:</b> Fourier Frequency corresponding to 2nd highest amplitude\n",
    "8. <b>Freq3:</b> Fourier Frequency corresponding to 3rd highest amplitude\n",
    "9. <b>Freq4:</b> Fourier Frequency corresponding to 4th highest amplitude\n",
    "10. <b>Freq5:</b> Fourier Frequency corresponding to 5th highest amplitude\n",
    "11. <b>Amp1:</b>  Amplitude corresponding to 1st highest fourier transformed wave.\n",
    "12. <b>Amp2:</b>  Amplitude corresponding to 2nd highest fourier transformed wave.\n",
    "13. <b>Amp3:</b>  Amplitude corresponding to 3rd highest fourier transformed wave.\n",
    "14. <b>Amp4:</b>  Amplitude corresponding to 4th highest fourier transformed wave.\n",
    "15. <b>Amp5:</b>  Amplitude corresponding to 5th highest fourier transformed wave.\n",
    "16. <b>Latitude:</b> Latitude of Cluster center.\n",
    "17. <b>Longitude:</b> Longitude of Cluster Center.\n",
    "18. <b>WeekDay:</b> Day of week of pickup.\n",
    "19. <b>WeightedAvg:</b>: Weighted Moving Average Prediction values."
   ]
  },
  {
   "cell_type": "markdown",
   "metadata": {
    "colab_type": "text",
    "id": "unJ_-uRTYa2L"
   },
   "source": [
    "## Data Preparation for regression models\n",
    "Before we start predictions using the tree based regression models we take Jan 2016 pickup data and split it such that for every region we have 80% data in train and 20% in test, ordered date-wise for every region."
   ]
  },
  {
   "cell_type": "code",
   "execution_count": 82,
   "metadata": {
    "colab": {},
    "colab_type": "code",
    "id": "VbonS5gDYa2M"
   },
   "outputs": [
    {
     "name": "stdout",
     "output_type": "stream",
     "text": [
      "size of total train data :107016\n",
      "size of total test data :26754\n"
     ]
    }
   ],
   "source": [
    "print(\"size of total train data :\" +str(int(133770*0.8)))\n",
    "print(\"size of total test data :\" +str(int(133770*0.2)))"
   ]
  },
  {
   "cell_type": "code",
   "execution_count": 83,
   "metadata": {
    "colab": {},
    "colab_type": "code",
    "id": "szdA1SdyYa2P"
   },
   "outputs": [
    {
     "name": "stdout",
     "output_type": "stream",
     "text": [
      "size of train data for one cluster:3567\n",
      "size of total test data for one cluster:891\n"
     ]
    }
   ],
   "source": [
    "print(\"size of train data for one cluster:\" +str(int(4459*0.8)))\n",
    "print(\"size of total test data for one cluster:\" +str(int(4459*0.2)))"
   ]
  },
  {
   "cell_type": "code",
   "execution_count": 84,
   "metadata": {
    "colab": {},
    "colab_type": "code",
    "id": "TCPGW8DeYa2S"
   },
   "outputs": [],
   "source": [
    "train_previousFive_pickups  = [feat[i*4459:(4459*i+3567)] for i in range(30)]\n",
    "test_previousFive_pickups  = [feat[(i*4459)+3567:(4459*(i+1))] for i in range(30)]"
   ]
  },
  {
   "cell_type": "code",
   "execution_count": 85,
   "metadata": {
    "colab": {},
    "colab_type": "code",
    "id": "UA4PEV29Ya2T"
   },
   "outputs": [],
   "source": [
    "train_fourier_frequencies = [frequency_lists[i*4459:(4459*i+3567)] for i in range(30)]\n",
    "test_fourier_frequencies = [frequency_lists[(i*4459)+3567:(4459*(i+1))] for i in range(30)]"
   ]
  },
  {
   "cell_type": "code",
   "execution_count": 86,
   "metadata": {
    "colab": {},
    "colab_type": "code",
    "id": "EQhn-NMUYa2U"
   },
   "outputs": [],
   "source": [
    "train_fourier_amplitudes = [amplitude_lists[i*4459:(4459*i+3567)] for i in range(30)]\n",
    "test_fourier_amplitudes = [amplitude_lists[(i*4459)+3567:(4459*(i+1))] for i in range(30)]"
   ]
  },
  {
   "cell_type": "code",
   "execution_count": 87,
   "metadata": {
    "colab": {},
    "colab_type": "code",
    "id": "oY-lhfXrYa2W"
   },
   "outputs": [
    {
     "name": "stdout",
     "output_type": "stream",
     "text": [
      "Train Data: Total number of clusters = 30. Number of points in each cluster = 3567. Total number of training points = 107010\n",
      "Test Data: Total number of clusters = 30. Number of points in each cluster = 892. Total number of test points = 26760\n"
     ]
    }
   ],
   "source": [
    "print(\"Train Data: Total number of clusters = {}. Number of points in each cluster = {}. Total number of training points = {}\".format(len(train_previousFive_pickups), len(train_previousFive_pickups[0]), len(train_previousFive_pickups)*len(train_previousFive_pickups[0])))\n",
    "print(\"Test Data: Total number of clusters = {}. Number of points in each cluster = {}. Total number of test points = {}\".format(len(test_previousFive_pickups), len(test_previousFive_pickups[0]), len(test_previousFive_pickups)*len(test_previousFive_pickups[0])))"
   ]
  },
  {
   "cell_type": "code",
   "execution_count": 88,
   "metadata": {
    "colab": {},
    "colab_type": "code",
    "id": "0YMcnIAwYa2Z"
   },
   "outputs": [],
   "source": [
    "#taking 80% data as train data from each cluster\n",
    "train_lat = [i[:3567] for i in lat]\n",
    "train_lon = [i[:3567] for i in lon]\n",
    "train_weekDay = [i[:3567] for i in day_of_week]\n",
    "train_weighted_avg = [i[:3567] for i in predicted_pickup_values_list]\n",
    "train_TruePickups = [i[:3567] for i in TruePickups]"
   ]
  },
  {
   "cell_type": "code",
   "execution_count": 89,
   "metadata": {
    "colab": {},
    "colab_type": "code",
    "id": "brTXf7e2Ya2a"
   },
   "outputs": [],
   "source": [
    "#taking 20% data as test data from each cluster\n",
    "test_lat = [i[3567:] for i in lat]\n",
    "test_lon = [i[3567:] for i in lon]\n",
    "test_weekDay = [i[3567:] for i in day_of_week]\n",
    "test_weighted_avg = [i[3567:] for i in predicted_pickup_values_list]\n",
    "test_TruePickups = [i[3567:] for i in TruePickups]"
   ]
  },
  {
   "cell_type": "code",
   "execution_count": 90,
   "metadata": {
    "colab": {},
    "colab_type": "code",
    "id": "1zF95iJyYa2b"
   },
   "outputs": [],
   "source": [
    "# convert from lists of lists of list to lists of list\n",
    "train_pickups = []\n",
    "test_pickups = []\n",
    "train_freq = []\n",
    "test_freq = []\n",
    "train_amp = []\n",
    "test_amp = []\n",
    "for i in range(30):\n",
    "    train_pickups.extend(train_previousFive_pickups[i])\n",
    "    test_pickups.extend(test_previousFive_pickups[i])\n",
    "    train_freq.extend(train_fourier_frequencies[i])\n",
    "    test_freq.extend(test_fourier_frequencies[i])\n",
    "    train_amp.extend(train_fourier_amplitudes[i])\n",
    "    test_amp.extend(test_fourier_amplitudes[i])"
   ]
  },
  {
   "cell_type": "code",
   "execution_count": 91,
   "metadata": {
    "colab": {},
    "colab_type": "code",
    "id": "0Ew2vV-fYa2d"
   },
   "outputs": [],
   "source": [
    "#stacking pickups,frequencies and amplitudes horizontally.\n",
    "\n",
    "\n",
    "train_prevPickups_freq_amp = np.hstack((train_pickups, train_freq, train_amp))\n",
    "test_prevPickups_freq_amp = np.hstack((test_pickups, test_freq, test_amp))"
   ]
  },
  {
   "cell_type": "code",
   "execution_count": 92,
   "metadata": {
    "colab": {},
    "colab_type": "code",
    "id": "AaZyvS7ZYa2e"
   },
   "outputs": [
    {
     "name": "stdout",
     "output_type": "stream",
     "text": [
      "Number of data points in train data = 107010. Number of columns till now = 15\n",
      "Number of data points in test data = 26760. Number of columns till now = 15\n"
     ]
    }
   ],
   "source": [
    "print(\"Number of data points in train data = {}. Number of columns till now = {}\".format(len(train_prevPickups_freq_amp), len(train_prevPickups_freq_amp[0])))\n",
    "print(\"Number of data points in test data = {}. Number of columns till now = {}\".format(len(test_prevPickups_freq_amp), len(test_prevPickups_freq_amp[0])))"
   ]
  },
  {
   "cell_type": "code",
   "execution_count": 93,
   "metadata": {
    "colab": {},
    "colab_type": "code",
    "id": "8UJZrSE4Ya2f"
   },
   "outputs": [],
   "source": [
    "# converting lists of lists into single list i.e flatten\n",
    "\n",
    "train_flat_lat = sum(train_lat, [])\n",
    "train_flat_lon = sum(train_lon, [])\n",
    "train_flat_weekDay = sum(train_weekDay, [])\n",
    "train_weighted_avg_flat = sum(train_weighted_avg, [])\n",
    "train_TruePickups_flat = sum(train_TruePickups, [])\n",
    "\n",
    "test_flat_lat = sum(test_lat, [])\n",
    "test_flat_lon = sum(test_lon, [])\n",
    "test_flat_weekDay = sum(test_weekDay, [])\n",
    "test_weighted_avg_flat = sum(test_weighted_avg, [])\n",
    "test_TruePickups_flat = sum(test_TruePickups, [])"
   ]
  },
  {
   "cell_type": "code",
   "execution_count": 94,
   "metadata": {
    "colab": {},
    "colab_type": "code",
    "id": "WJaAOn64Ya2f"
   },
   "outputs": [],
   "source": [
    "#train dataframe\n",
    "columns = ['ft_5','ft_4','ft_3','ft_2','ft_1', 'freq1', 'freq2','freq3','freq4','freq5', 'Amp1', 'Amp2', 'Amp3', 'Amp4', 'Amp5']\n",
    "Train_DF = pd.DataFrame(data = train_prevPickups_freq_amp, columns = columns)\n",
    "Train_DF[\"Latitude\"] = train_flat_lat\n",
    "Train_DF[\"Longitude\"] = train_flat_lon\n",
    "Train_DF[\"WeekDay\"] = train_flat_weekDay\n",
    "Train_DF[\"WeightedAvg\"] = train_weighted_avg_flat"
   ]
  },
  {
   "cell_type": "code",
   "execution_count": 95,
   "metadata": {
    "colab": {},
    "colab_type": "code",
    "id": "3qS8zoU8Ya2h"
   },
   "outputs": [],
   "source": [
    "#test dataframe\n",
    "Test_DF = pd.DataFrame(data = test_prevPickups_freq_amp, columns = columns)\n",
    "Test_DF[\"Latitude\"] = test_flat_lat\n",
    "Test_DF[\"Longitude\"] = test_flat_lon\n",
    "Test_DF[\"WeekDay\"] = test_flat_weekDay\n",
    "Test_DF[\"WeightedAvg\"] = test_weighted_avg_flat"
   ]
  },
  {
   "cell_type": "code",
   "execution_count": 96,
   "metadata": {
    "colab": {},
    "colab_type": "code",
    "id": "zl7ZTShCYa2i"
   },
   "outputs": [
    {
     "name": "stdout",
     "output_type": "stream",
     "text": [
      "Shape of train data = (107010, 19)\n",
      "Shape of test data = (26760, 19)\n"
     ]
    }
   ],
   "source": [
    "print(\"Shape of train data = \"+str(Train_DF.shape))\n",
    "print(\"Shape of test data = \"+str(Test_DF.shape))"
   ]
  },
  {
   "cell_type": "code",
   "execution_count": 97,
   "metadata": {
    "colab": {},
    "colab_type": "code",
    "id": "4cbOK_a4Ya2l"
   },
   "outputs": [
    {
     "data": {
      "text/html": [
       "<div>\n",
       "<style scoped>\n",
       "    .dataframe tbody tr th:only-of-type {\n",
       "        vertical-align: middle;\n",
       "    }\n",
       "\n",
       "    .dataframe tbody tr th {\n",
       "        vertical-align: top;\n",
       "    }\n",
       "\n",
       "    .dataframe thead th {\n",
       "        text-align: right;\n",
       "    }\n",
       "</style>\n",
       "<table border=\"1\" class=\"dataframe\">\n",
       "  <thead>\n",
       "    <tr style=\"text-align: right;\">\n",
       "      <th></th>\n",
       "      <th>ft_5</th>\n",
       "      <th>ft_4</th>\n",
       "      <th>ft_3</th>\n",
       "      <th>ft_2</th>\n",
       "      <th>ft_1</th>\n",
       "      <th>freq1</th>\n",
       "      <th>freq2</th>\n",
       "      <th>freq3</th>\n",
       "      <th>freq4</th>\n",
       "      <th>freq5</th>\n",
       "      <th>Amp1</th>\n",
       "      <th>Amp2</th>\n",
       "      <th>Amp3</th>\n",
       "      <th>Amp4</th>\n",
       "      <th>Amp5</th>\n",
       "      <th>Latitude</th>\n",
       "      <th>Longitude</th>\n",
       "      <th>WeekDay</th>\n",
       "      <th>WeightedAvg</th>\n",
       "    </tr>\n",
       "  </thead>\n",
       "  <tbody>\n",
       "    <tr>\n",
       "      <th>0</th>\n",
       "      <td>15.0</td>\n",
       "      <td>31.0</td>\n",
       "      <td>44.0</td>\n",
       "      <td>61.0</td>\n",
       "      <td>66.0</td>\n",
       "      <td>0.013916</td>\n",
       "      <td>0.012939</td>\n",
       "      <td>0.020752</td>\n",
       "      <td>0.020996</td>\n",
       "      <td>0.027832</td>\n",
       "      <td>14216.8593</td>\n",
       "      <td>10549.771686</td>\n",
       "      <td>8067.542692</td>\n",
       "      <td>6840.878674</td>\n",
       "      <td>6739.756276</td>\n",
       "      <td>40.689231</td>\n",
       "      <td>-73.987923</td>\n",
       "      <td>5</td>\n",
       "      <td>64</td>\n",
       "    </tr>\n",
       "    <tr>\n",
       "      <th>1</th>\n",
       "      <td>31.0</td>\n",
       "      <td>44.0</td>\n",
       "      <td>61.0</td>\n",
       "      <td>66.0</td>\n",
       "      <td>70.0</td>\n",
       "      <td>0.013916</td>\n",
       "      <td>0.012939</td>\n",
       "      <td>0.020752</td>\n",
       "      <td>0.020996</td>\n",
       "      <td>0.027832</td>\n",
       "      <td>14216.8593</td>\n",
       "      <td>10549.771686</td>\n",
       "      <td>8067.542692</td>\n",
       "      <td>6840.878674</td>\n",
       "      <td>6739.756276</td>\n",
       "      <td>40.689231</td>\n",
       "      <td>-73.987923</td>\n",
       "      <td>5</td>\n",
       "      <td>68</td>\n",
       "    </tr>\n",
       "    <tr>\n",
       "      <th>2</th>\n",
       "      <td>44.0</td>\n",
       "      <td>61.0</td>\n",
       "      <td>66.0</td>\n",
       "      <td>70.0</td>\n",
       "      <td>91.0</td>\n",
       "      <td>0.013916</td>\n",
       "      <td>0.012939</td>\n",
       "      <td>0.020752</td>\n",
       "      <td>0.020996</td>\n",
       "      <td>0.027832</td>\n",
       "      <td>14216.8593</td>\n",
       "      <td>10549.771686</td>\n",
       "      <td>8067.542692</td>\n",
       "      <td>6840.878674</td>\n",
       "      <td>6739.756276</td>\n",
       "      <td>40.689231</td>\n",
       "      <td>-73.987923</td>\n",
       "      <td>5</td>\n",
       "      <td>84</td>\n",
       "    </tr>\n",
       "    <tr>\n",
       "      <th>3</th>\n",
       "      <td>61.0</td>\n",
       "      <td>66.0</td>\n",
       "      <td>70.0</td>\n",
       "      <td>91.0</td>\n",
       "      <td>88.0</td>\n",
       "      <td>0.013916</td>\n",
       "      <td>0.012939</td>\n",
       "      <td>0.020752</td>\n",
       "      <td>0.020996</td>\n",
       "      <td>0.027832</td>\n",
       "      <td>14216.8593</td>\n",
       "      <td>10549.771686</td>\n",
       "      <td>8067.542692</td>\n",
       "      <td>6840.878674</td>\n",
       "      <td>6739.756276</td>\n",
       "      <td>40.689231</td>\n",
       "      <td>-73.987923</td>\n",
       "      <td>5</td>\n",
       "      <td>89</td>\n",
       "    </tr>\n",
       "    <tr>\n",
       "      <th>4</th>\n",
       "      <td>66.0</td>\n",
       "      <td>70.0</td>\n",
       "      <td>91.0</td>\n",
       "      <td>88.0</td>\n",
       "      <td>89.0</td>\n",
       "      <td>0.013916</td>\n",
       "      <td>0.012939</td>\n",
       "      <td>0.020752</td>\n",
       "      <td>0.020996</td>\n",
       "      <td>0.027832</td>\n",
       "      <td>14216.8593</td>\n",
       "      <td>10549.771686</td>\n",
       "      <td>8067.542692</td>\n",
       "      <td>6840.878674</td>\n",
       "      <td>6739.756276</td>\n",
       "      <td>40.689231</td>\n",
       "      <td>-73.987923</td>\n",
       "      <td>5</td>\n",
       "      <td>88</td>\n",
       "    </tr>\n",
       "  </tbody>\n",
       "</table>\n",
       "</div>"
      ],
      "text/plain": [
       "   ft_5  ft_4  ft_3  ft_2  ft_1     freq1     freq2     freq3     freq4  \\\n",
       "0  15.0  31.0  44.0  61.0  66.0  0.013916  0.012939  0.020752  0.020996   \n",
       "1  31.0  44.0  61.0  66.0  70.0  0.013916  0.012939  0.020752  0.020996   \n",
       "2  44.0  61.0  66.0  70.0  91.0  0.013916  0.012939  0.020752  0.020996   \n",
       "3  61.0  66.0  70.0  91.0  88.0  0.013916  0.012939  0.020752  0.020996   \n",
       "4  66.0  70.0  91.0  88.0  89.0  0.013916  0.012939  0.020752  0.020996   \n",
       "\n",
       "      freq5        Amp1          Amp2         Amp3         Amp4         Amp5  \\\n",
       "0  0.027832  14216.8593  10549.771686  8067.542692  6840.878674  6739.756276   \n",
       "1  0.027832  14216.8593  10549.771686  8067.542692  6840.878674  6739.756276   \n",
       "2  0.027832  14216.8593  10549.771686  8067.542692  6840.878674  6739.756276   \n",
       "3  0.027832  14216.8593  10549.771686  8067.542692  6840.878674  6739.756276   \n",
       "4  0.027832  14216.8593  10549.771686  8067.542692  6840.878674  6739.756276   \n",
       "\n",
       "    Latitude  Longitude  WeekDay  WeightedAvg  \n",
       "0  40.689231 -73.987923        5           64  \n",
       "1  40.689231 -73.987923        5           68  \n",
       "2  40.689231 -73.987923        5           84  \n",
       "3  40.689231 -73.987923        5           89  \n",
       "4  40.689231 -73.987923        5           88  "
      ]
     },
     "execution_count": 97,
     "metadata": {},
     "output_type": "execute_result"
    }
   ],
   "source": [
    "Train_DF.head()"
   ]
  },
  {
   "cell_type": "code",
   "execution_count": 98,
   "metadata": {
    "colab": {},
    "colab_type": "code",
    "id": "K3ZQxk-IYa2o"
   },
   "outputs": [
    {
     "data": {
      "text/html": [
       "<div>\n",
       "<style scoped>\n",
       "    .dataframe tbody tr th:only-of-type {\n",
       "        vertical-align: middle;\n",
       "    }\n",
       "\n",
       "    .dataframe tbody tr th {\n",
       "        vertical-align: top;\n",
       "    }\n",
       "\n",
       "    .dataframe thead th {\n",
       "        text-align: right;\n",
       "    }\n",
       "</style>\n",
       "<table border=\"1\" class=\"dataframe\">\n",
       "  <thead>\n",
       "    <tr style=\"text-align: right;\">\n",
       "      <th></th>\n",
       "      <th>ft_5</th>\n",
       "      <th>ft_4</th>\n",
       "      <th>ft_3</th>\n",
       "      <th>ft_2</th>\n",
       "      <th>ft_1</th>\n",
       "      <th>freq1</th>\n",
       "      <th>freq2</th>\n",
       "      <th>freq3</th>\n",
       "      <th>freq4</th>\n",
       "      <th>freq5</th>\n",
       "      <th>Amp1</th>\n",
       "      <th>Amp2</th>\n",
       "      <th>Amp3</th>\n",
       "      <th>Amp4</th>\n",
       "      <th>Amp5</th>\n",
       "      <th>Latitude</th>\n",
       "      <th>Longitude</th>\n",
       "      <th>WeekDay</th>\n",
       "      <th>WeightedAvg</th>\n",
       "    </tr>\n",
       "  </thead>\n",
       "  <tbody>\n",
       "    <tr>\n",
       "      <th>0</th>\n",
       "      <td>31.0</td>\n",
       "      <td>30.0</td>\n",
       "      <td>34.0</td>\n",
       "      <td>32.0</td>\n",
       "      <td>26.0</td>\n",
       "      <td>0.013916</td>\n",
       "      <td>0.012939</td>\n",
       "      <td>0.020752</td>\n",
       "      <td>0.020996</td>\n",
       "      <td>0.027832</td>\n",
       "      <td>14216.8593</td>\n",
       "      <td>10549.771686</td>\n",
       "      <td>8067.542692</td>\n",
       "      <td>6840.878674</td>\n",
       "      <td>6739.756276</td>\n",
       "      <td>40.689231</td>\n",
       "      <td>-73.987923</td>\n",
       "      <td>1</td>\n",
       "      <td>28</td>\n",
       "    </tr>\n",
       "    <tr>\n",
       "      <th>1</th>\n",
       "      <td>30.0</td>\n",
       "      <td>34.0</td>\n",
       "      <td>32.0</td>\n",
       "      <td>26.0</td>\n",
       "      <td>26.0</td>\n",
       "      <td>0.013916</td>\n",
       "      <td>0.012939</td>\n",
       "      <td>0.020752</td>\n",
       "      <td>0.020996</td>\n",
       "      <td>0.027832</td>\n",
       "      <td>14216.8593</td>\n",
       "      <td>10549.771686</td>\n",
       "      <td>8067.542692</td>\n",
       "      <td>6840.878674</td>\n",
       "      <td>6739.756276</td>\n",
       "      <td>40.689231</td>\n",
       "      <td>-73.987923</td>\n",
       "      <td>1</td>\n",
       "      <td>26</td>\n",
       "    </tr>\n",
       "    <tr>\n",
       "      <th>2</th>\n",
       "      <td>34.0</td>\n",
       "      <td>32.0</td>\n",
       "      <td>26.0</td>\n",
       "      <td>26.0</td>\n",
       "      <td>31.0</td>\n",
       "      <td>0.013916</td>\n",
       "      <td>0.012939</td>\n",
       "      <td>0.020752</td>\n",
       "      <td>0.020996</td>\n",
       "      <td>0.027832</td>\n",
       "      <td>14216.8593</td>\n",
       "      <td>10549.771686</td>\n",
       "      <td>8067.542692</td>\n",
       "      <td>6840.878674</td>\n",
       "      <td>6739.756276</td>\n",
       "      <td>40.689231</td>\n",
       "      <td>-73.987923</td>\n",
       "      <td>1</td>\n",
       "      <td>29</td>\n",
       "    </tr>\n",
       "    <tr>\n",
       "      <th>3</th>\n",
       "      <td>32.0</td>\n",
       "      <td>26.0</td>\n",
       "      <td>26.0</td>\n",
       "      <td>31.0</td>\n",
       "      <td>19.0</td>\n",
       "      <td>0.013916</td>\n",
       "      <td>0.012939</td>\n",
       "      <td>0.020752</td>\n",
       "      <td>0.020996</td>\n",
       "      <td>0.027832</td>\n",
       "      <td>14216.8593</td>\n",
       "      <td>10549.771686</td>\n",
       "      <td>8067.542692</td>\n",
       "      <td>6840.878674</td>\n",
       "      <td>6739.756276</td>\n",
       "      <td>40.689231</td>\n",
       "      <td>-73.987923</td>\n",
       "      <td>1</td>\n",
       "      <td>23</td>\n",
       "    </tr>\n",
       "    <tr>\n",
       "      <th>4</th>\n",
       "      <td>26.0</td>\n",
       "      <td>26.0</td>\n",
       "      <td>31.0</td>\n",
       "      <td>19.0</td>\n",
       "      <td>13.0</td>\n",
       "      <td>0.013916</td>\n",
       "      <td>0.012939</td>\n",
       "      <td>0.020752</td>\n",
       "      <td>0.020996</td>\n",
       "      <td>0.027832</td>\n",
       "      <td>14216.8593</td>\n",
       "      <td>10549.771686</td>\n",
       "      <td>8067.542692</td>\n",
       "      <td>6840.878674</td>\n",
       "      <td>6739.756276</td>\n",
       "      <td>40.689231</td>\n",
       "      <td>-73.987923</td>\n",
       "      <td>1</td>\n",
       "      <td>15</td>\n",
       "    </tr>\n",
       "  </tbody>\n",
       "</table>\n",
       "</div>"
      ],
      "text/plain": [
       "   ft_5  ft_4  ft_3  ft_2  ft_1     freq1     freq2     freq3     freq4  \\\n",
       "0  31.0  30.0  34.0  32.0  26.0  0.013916  0.012939  0.020752  0.020996   \n",
       "1  30.0  34.0  32.0  26.0  26.0  0.013916  0.012939  0.020752  0.020996   \n",
       "2  34.0  32.0  26.0  26.0  31.0  0.013916  0.012939  0.020752  0.020996   \n",
       "3  32.0  26.0  26.0  31.0  19.0  0.013916  0.012939  0.020752  0.020996   \n",
       "4  26.0  26.0  31.0  19.0  13.0  0.013916  0.012939  0.020752  0.020996   \n",
       "\n",
       "      freq5        Amp1          Amp2         Amp3         Amp4         Amp5  \\\n",
       "0  0.027832  14216.8593  10549.771686  8067.542692  6840.878674  6739.756276   \n",
       "1  0.027832  14216.8593  10549.771686  8067.542692  6840.878674  6739.756276   \n",
       "2  0.027832  14216.8593  10549.771686  8067.542692  6840.878674  6739.756276   \n",
       "3  0.027832  14216.8593  10549.771686  8067.542692  6840.878674  6739.756276   \n",
       "4  0.027832  14216.8593  10549.771686  8067.542692  6840.878674  6739.756276   \n",
       "\n",
       "    Latitude  Longitude  WeekDay  WeightedAvg  \n",
       "0  40.689231 -73.987923        1           28  \n",
       "1  40.689231 -73.987923        1           26  \n",
       "2  40.689231 -73.987923        1           29  \n",
       "3  40.689231 -73.987923        1           23  \n",
       "4  40.689231 -73.987923        1           15  "
      ]
     },
     "execution_count": 98,
     "metadata": {},
     "output_type": "execute_result"
    }
   ],
   "source": [
    "Test_DF.head()"
   ]
  },
  {
   "cell_type": "markdown",
   "metadata": {
    "colab_type": "text",
    "id": "-RSlYPcpYa2p"
   },
   "source": [
    "## Linear Regression"
   ]
  },
  {
   "cell_type": "code",
   "execution_count": 99,
   "metadata": {
    "colab": {},
    "colab_type": "code",
    "id": "R-QczMg7Ya2r"
   },
   "outputs": [],
   "source": [
    "def lin_regression(train_data, train_true, test_data, test_true):\n",
    "    \n",
    "    #standardizing the data\n",
    "    train_std = StandardScaler().fit_transform(train_data)\n",
    "    test_std = StandardScaler().fit_transform(test_data)\n",
    "    \n",
    "    #hyper-paramater tuning\n",
    "    clf = SGDRegressor(loss = \"squared_loss\", penalty = \"l2\")\n",
    "    values = [10**-14, 10**-12, 10**-10, 10**-8, 10**-6, 10**-4, 10**-2, 10**0, 10**2, 10**4, 10**6]\n",
    "    hyper_parameter = {\"alpha\": values}\n",
    "    best_parameter = GridSearchCV(clf, hyper_parameter, scoring = \"neg_mean_absolute_error\", cv = 3)\n",
    "    best_parameter.fit(train_std, train_true)\n",
    "    alpha = best_parameter.best_params_[\"alpha\"]\n",
    "    \n",
    "    #applying linear regression with best hyper-parameter\n",
    "    clf = SGDRegressor(loss = \"squared_loss\", penalty = \"l2\", alpha = alpha)\n",
    "    clf.fit(train_std, train_true)\n",
    "    train_pred = clf.predict(train_std)\n",
    "    train_MAPE = mean_absolute_error(train_true, train_pred)/ (sum(train_true)/len(train_true))\n",
    "    train_MSE = mean_squared_error(train_true, train_pred)\n",
    "    test_pred = clf.predict(test_std)\n",
    "    test_MAPE = mean_absolute_error(test_true, test_pred)/ (sum(test_true)/len(test_true))\n",
    "    test_MSE = mean_squared_error(test_true, test_pred)\n",
    "    \n",
    "    return train_MAPE, train_MSE, test_MAPE, test_MSE"
   ]
  },
  {
   "cell_type": "markdown",
   "metadata": {
    "colab_type": "text",
    "id": "z6ifEsh9Ya2t"
   },
   "source": [
    "## XGBoost Regressor"
   ]
  },
  {
   "cell_type": "code",
   "execution_count": 100,
   "metadata": {
    "colab": {},
    "colab_type": "code",
    "id": "fRelFf_PYa2t"
   },
   "outputs": [],
   "source": [
    "def xgboost_reg(train_data, train_true, test_data, test_true):\n",
    "    #hyper-parameter tuning\n",
    "    hyper_parameter = {\"max_depth\":[1, 2, 3, 4], \"n_estimators\":[40, 80, 150, 600]}\n",
    "    clf = xgb.XGBRegressor()\n",
    "    best_parameter = GridSearchCV(clf, hyper_parameter, scoring = \"neg_mean_absolute_error\", cv = 3)\n",
    "    best_parameter.fit(train_data, train_true)\n",
    "    estimators = best_parameter.best_params_[\"n_estimators\"]\n",
    "    depth = best_parameter.best_params_[\"max_depth\"]\n",
    "    \n",
    "    #applying xgboost regressor with best hyper-parameter\n",
    "    clf = xgb.XGBRegressor(max_depth = depth, n_estimators = estimators)\n",
    "    clf.fit(train_data, train_true)\n",
    "    train_pred = clf.predict(train_data)\n",
    "    train_MAPE = mean_absolute_error(train_true, train_pred)/ (sum(train_true)/len(train_true))\n",
    "    train_MSE = mean_squared_error(train_true, train_pred)\n",
    "    test_pred = clf.predict(test_data)\n",
    "    test_MAPE = mean_absolute_error(test_true, test_pred)/ (sum(test_true)/len(test_true))\n",
    "    test_MSE = mean_squared_error(test_true, test_pred)\n",
    "    \n",
    "    return train_MAPE, train_MSE, test_MAPE, test_MSE"
   ]
  },
  {
   "cell_type": "code",
   "execution_count": 101,
   "metadata": {
    "colab": {},
    "colab_type": "code",
    "id": "5tHnz2DWYa2v"
   },
   "outputs": [
    {
     "name": "stdout",
     "output_type": "stream",
     "text": [
      "[17:50:16] WARNING: /workspace/src/objective/regression_obj.cu:152: reg:linear is now deprecated in favor of reg:squarederror.\n",
      "[17:50:17] WARNING: /workspace/src/objective/regression_obj.cu:152: reg:linear is now deprecated in favor of reg:squarederror.\n",
      "[17:50:17] WARNING: /workspace/src/objective/regression_obj.cu:152: reg:linear is now deprecated in favor of reg:squarederror.\n",
      "[17:50:18] WARNING: /workspace/src/objective/regression_obj.cu:152: reg:linear is now deprecated in favor of reg:squarederror.\n",
      "[17:50:20] WARNING: /workspace/src/objective/regression_obj.cu:152: reg:linear is now deprecated in favor of reg:squarederror.\n",
      "[17:50:21] WARNING: /workspace/src/objective/regression_obj.cu:152: reg:linear is now deprecated in favor of reg:squarederror.\n",
      "[17:50:22] WARNING: /workspace/src/objective/regression_obj.cu:152: reg:linear is now deprecated in favor of reg:squarederror.\n",
      "[17:50:25] WARNING: /workspace/src/objective/regression_obj.cu:152: reg:linear is now deprecated in favor of reg:squarederror.\n",
      "[17:50:27] WARNING: /workspace/src/objective/regression_obj.cu:152: reg:linear is now deprecated in favor of reg:squarederror.\n",
      "[17:50:30] WARNING: /workspace/src/objective/regression_obj.cu:152: reg:linear is now deprecated in favor of reg:squarederror.\n",
      "[17:50:39] WARNING: /workspace/src/objective/regression_obj.cu:152: reg:linear is now deprecated in favor of reg:squarederror.\n",
      "[17:50:49] WARNING: /workspace/src/objective/regression_obj.cu:152: reg:linear is now deprecated in favor of reg:squarederror.\n",
      "[17:50:58] WARNING: /workspace/src/objective/regression_obj.cu:152: reg:linear is now deprecated in favor of reg:squarederror.\n",
      "[17:50:59] WARNING: /workspace/src/objective/regression_obj.cu:152: reg:linear is now deprecated in favor of reg:squarederror.\n",
      "[17:51:00] WARNING: /workspace/src/objective/regression_obj.cu:152: reg:linear is now deprecated in favor of reg:squarederror.\n",
      "[17:51:01] WARNING: /workspace/src/objective/regression_obj.cu:152: reg:linear is now deprecated in favor of reg:squarederror.\n",
      "[17:51:03] WARNING: /workspace/src/objective/regression_obj.cu:152: reg:linear is now deprecated in favor of reg:squarederror.\n",
      "[17:51:05] WARNING: /workspace/src/objective/regression_obj.cu:152: reg:linear is now deprecated in favor of reg:squarederror.\n",
      "[17:51:07] WARNING: /workspace/src/objective/regression_obj.cu:152: reg:linear is now deprecated in favor of reg:squarederror.\n",
      "[17:51:10] WARNING: /workspace/src/objective/regression_obj.cu:152: reg:linear is now deprecated in favor of reg:squarederror.\n",
      "[17:51:14] WARNING: /workspace/src/objective/regression_obj.cu:152: reg:linear is now deprecated in favor of reg:squarederror.\n",
      "[17:51:17] WARNING: /workspace/src/objective/regression_obj.cu:152: reg:linear is now deprecated in favor of reg:squarederror.\n",
      "[17:51:30] WARNING: /workspace/src/objective/regression_obj.cu:152: reg:linear is now deprecated in favor of reg:squarederror.\n",
      "[17:51:44] WARNING: /workspace/src/objective/regression_obj.cu:152: reg:linear is now deprecated in favor of reg:squarederror.\n",
      "[17:51:57] WARNING: /workspace/src/objective/regression_obj.cu:152: reg:linear is now deprecated in favor of reg:squarederror.\n",
      "[17:51:58] WARNING: /workspace/src/objective/regression_obj.cu:152: reg:linear is now deprecated in favor of reg:squarederror.\n",
      "[17:51:59] WARNING: /workspace/src/objective/regression_obj.cu:152: reg:linear is now deprecated in favor of reg:squarederror.\n",
      "[17:52:00] WARNING: /workspace/src/objective/regression_obj.cu:152: reg:linear is now deprecated in favor of reg:squarederror.\n",
      "[17:52:03] WARNING: /workspace/src/objective/regression_obj.cu:152: reg:linear is now deprecated in favor of reg:squarederror.\n",
      "[17:52:05] WARNING: /workspace/src/objective/regression_obj.cu:152: reg:linear is now deprecated in favor of reg:squarederror.\n",
      "[17:52:08] WARNING: /workspace/src/objective/regression_obj.cu:152: reg:linear is now deprecated in favor of reg:squarederror.\n",
      "[17:52:12] WARNING: /workspace/src/objective/regression_obj.cu:152: reg:linear is now deprecated in favor of reg:squarederror.\n",
      "[17:52:16] WARNING: /workspace/src/objective/regression_obj.cu:152: reg:linear is now deprecated in favor of reg:squarederror.\n",
      "[17:52:21] WARNING: /workspace/src/objective/regression_obj.cu:152: reg:linear is now deprecated in favor of reg:squarederror.\n",
      "[17:52:38] WARNING: /workspace/src/objective/regression_obj.cu:152: reg:linear is now deprecated in favor of reg:squarederror.\n",
      "[17:52:56] WARNING: /workspace/src/objective/regression_obj.cu:152: reg:linear is now deprecated in favor of reg:squarederror.\n",
      "[17:53:14] WARNING: /workspace/src/objective/regression_obj.cu:152: reg:linear is now deprecated in favor of reg:squarederror.\n",
      "[17:53:16] WARNING: /workspace/src/objective/regression_obj.cu:152: reg:linear is now deprecated in favor of reg:squarederror.\n",
      "[17:53:17] WARNING: /workspace/src/objective/regression_obj.cu:152: reg:linear is now deprecated in favor of reg:squarederror.\n",
      "[17:53:19] WARNING: /workspace/src/objective/regression_obj.cu:152: reg:linear is now deprecated in favor of reg:squarederror.\n",
      "[17:53:22] WARNING: /workspace/src/objective/regression_obj.cu:152: reg:linear is now deprecated in favor of reg:squarederror.\n",
      "[17:53:25] WARNING: /workspace/src/objective/regression_obj.cu:152: reg:linear is now deprecated in favor of reg:squarederror.\n",
      "[17:53:28] WARNING: /workspace/src/objective/regression_obj.cu:152: reg:linear is now deprecated in favor of reg:squarederror.\n",
      "[17:53:34] WARNING: /workspace/src/objective/regression_obj.cu:152: reg:linear is now deprecated in favor of reg:squarederror.\n",
      "[17:53:40] WARNING: /workspace/src/objective/regression_obj.cu:152: reg:linear is now deprecated in favor of reg:squarederror.\n",
      "[17:53:46] WARNING: /workspace/src/objective/regression_obj.cu:152: reg:linear is now deprecated in favor of reg:squarederror.\n",
      "[17:54:10] WARNING: /workspace/src/objective/regression_obj.cu:152: reg:linear is now deprecated in favor of reg:squarederror.\n",
      "[17:54:34] WARNING: /workspace/src/objective/regression_obj.cu:152: reg:linear is now deprecated in favor of reg:squarederror.\n",
      "[17:54:59] WARNING: /workspace/src/objective/regression_obj.cu:152: reg:linear is now deprecated in favor of reg:squarederror.\n",
      "[17:55:06] WARNING: /workspace/src/objective/regression_obj.cu:152: reg:linear is now deprecated in favor of reg:squarederror.\n"
     ]
    }
   ],
   "source": [
    "trainMAPE_lr, trainMSE_lr, testMAPE_lr, testMSE_lr = lin_regression(Train_DF, train_TruePickups_flat, Test_DF, test_TruePickups_flat)\n",
    "\n",
    "trainMAPE_xgb, trainMSE_xgb, testMAPE_xgb, testMSE_xgb = xgboost_reg(Train_DF, train_TruePickups_flat, Test_DF, test_TruePickups_flat)"
   ]
  },
  {
   "cell_type": "markdown",
   "metadata": {
    "colab_type": "text",
    "id": "04QT8jy2Ya2w"
   },
   "source": [
    "# 6. Model Comparison"
   ]
  },
  {
   "cell_type": "code",
   "execution_count": 102,
   "metadata": {
    "colab": {},
    "colab_type": "code",
    "id": "mMA9fBzQYa2w"
   },
   "outputs": [],
   "source": [
    "error_table_regressions = pd.DataFrame(columns = [\"Model\", \"TrainMAPE(%)\", \"TrainMSE\", \"TestMAPE(%)\", \"TestMSE\"])\n",
    "\n",
    "error_table_regressions = error_table_regressions.append(pd.DataFrame([[\"Linear Regression\", trainMAPE_lr*100, trainMSE_lr, testMAPE_lr*100, testMSE_lr ]], columns = [\"Model\", \"TrainMAPE(%)\", \"TrainMSE\", \"TestMAPE(%)\", \"TestMSE\"]))\n",
    "\n",
    "error_table_regressions = error_table_regressions.append(pd.DataFrame([[\"XGBoost Regressor\", trainMAPE_xgb*100, trainMSE_xgb, testMAPE_xgb*100, testMSE_xgb]], columns = [\"Model\", \"TrainMAPE(%)\", \"TrainMSE\", \"TestMAPE(%)\", \"TestMSE\"]))\n",
    "error_table_regressions.reset_index(drop = True, inplace = True)"
   ]
  },
  {
   "cell_type": "code",
   "execution_count": 103,
   "metadata": {
    "colab": {},
    "colab_type": "code",
    "id": "cDfHnoGIYa2x"
   },
   "outputs": [
    {
     "data": {
      "text/html": [
       "<div>\n",
       "<style scoped>\n",
       "    .dataframe tbody tr th:only-of-type {\n",
       "        vertical-align: middle;\n",
       "    }\n",
       "\n",
       "    .dataframe tbody tr th {\n",
       "        vertical-align: top;\n",
       "    }\n",
       "\n",
       "    .dataframe thead th {\n",
       "        text-align: right;\n",
       "    }\n",
       "</style>\n",
       "<table border=\"1\" class=\"dataframe\">\n",
       "  <thead>\n",
       "    <tr style=\"text-align: right;\">\n",
       "      <th></th>\n",
       "      <th>Model</th>\n",
       "      <th>TrainMAPE(%)</th>\n",
       "      <th>TrainMSE</th>\n",
       "      <th>TestMAPE(%)</th>\n",
       "      <th>TestMSE</th>\n",
       "    </tr>\n",
       "  </thead>\n",
       "  <tbody>\n",
       "    <tr>\n",
       "      <th>0</th>\n",
       "      <td>Linear Regression</td>\n",
       "      <td>13.437974</td>\n",
       "      <td>315.879649</td>\n",
       "      <td>15.517448</td>\n",
       "      <td>283.877262</td>\n",
       "    </tr>\n",
       "    <tr>\n",
       "      <th>1</th>\n",
       "      <td>XGBoost Regressor</td>\n",
       "      <td>13.070901</td>\n",
       "      <td>277.297984</td>\n",
       "      <td>13.089883</td>\n",
       "      <td>219.382301</td>\n",
       "    </tr>\n",
       "  </tbody>\n",
       "</table>\n",
       "</div>"
      ],
      "text/plain": [
       "               Model  TrainMAPE(%)    TrainMSE  TestMAPE(%)     TestMSE\n",
       "0  Linear Regression     13.437974  315.879649    15.517448  283.877262\n",
       "1  XGBoost Regressor     13.070901  277.297984    13.089883  219.382301"
      ]
     },
     "execution_count": 103,
     "metadata": {},
     "output_type": "execute_result"
    }
   ],
   "source": [
    "error_table_regressions"
   ]
  },
  {
   "cell_type": "markdown",
   "metadata": {
    "colab_type": "text",
    "id": "05J9XCSlYa2z"
   },
   "source": [
    "### From the above result we have following observations:\n",
    "* <b>1. The difference between train error and test error of random forest regressor is high, which clearly shows that random forest regressor is overfitting. Therefore, we are discarding random forest regressor.</b>\n",
    "* <b>2. The best model with lowest train and test error is XGBoost Regressor.</b>"
   ]
  },
  {
   "cell_type": "code",
   "execution_count": 104,
   "metadata": {
    "colab": {},
    "colab_type": "code",
    "id": "2vZovQ6xYa20"
   },
   "outputs": [],
   "source": [
    "Final_Table = pd.DataFrame(columns = [\"Model\", \"Mean_Absolute_Per_Error(%)\"])\n",
    "\n",
    "Final_Table = Final_Table.append(pd.DataFrame([[\"Weighted Moving Average Predictions\", mape4*100]], columns = [\"Model\", \"Mean_Absolute_Per_Error(%)\"]))\n",
    "\n",
    "Final_Table = Final_Table.append(pd.DataFrame([[\"Linear Regression\", testMAPE_lr*100]], columns = [\"Model\", \"Mean_Absolute_Per_Error(%)\"]))\n",
    "\n",
    "Final_Table = Final_Table.append(pd.DataFrame([[\"XGBoost Regressor\", testMAPE_xgb*100]], columns = [\"Model\", \"Mean_Absolute_Per_Error(%)\"]))\n",
    "\n",
    "Final_Table.reset_index(drop = True, inplace = True)"
   ]
  },
  {
   "cell_type": "code",
   "execution_count": 105,
   "metadata": {
    "colab": {},
    "colab_type": "code",
    "id": "rp_iL9D5Ya21"
   },
   "outputs": [
    {
     "data": {
      "image/png": "[encoded data removed]",
      "text/plain": [
       "<Figure size 864x576 with 1 Axes>"
      ]
     },
     "metadata": {
      "needs_background": "light"
     },
     "output_type": "display_data"
    }
   ],
   "source": [
    "ax = Final_Table.plot(x = \"Model\", kind = \"bar\", figsize = (12, 8), grid = True, fontsize = 15)\n",
    "ax.set_title(\"Test MAPE of all Models\", fontsize = 25)\n",
    "ax.set_ylabel(\"Mean Absolute Percentage Error(%)\", fontsize = 15)\n",
    "\n",
    "for i in ax.patches:   #ax.patches is an array which gives x position, y position, width of a bar graphs.\n",
    "    ax.text(i.get_x()-.05, i.get_height()+0.19, str(round(i.get_height(), 2))+'%', fontsize=14, color='black')\n",
    "#     ax.text(x, y, annotate_text, font_size, color)\n",
    "plt.show()"
   ]
  },
  {
   "cell_type": "code",
   "execution_count": 106,
   "metadata": {
    "colab": {},
    "colab_type": "code",
    "id": "G_DDPrOnYa22"
   },
   "outputs": [
    {
     "data": {
      "text/html": [
       "<style  type=\"text/css\" >\n",
       "    #T_bad23ec8_fa53_11e9_9834_9fa210f67734row2_col1 {\n",
       "            background-color:  yellow;\n",
       "        }</style><table id=\"T_bad23ec8_fa53_11e9_9834_9fa210f67734\" ><thead>    <tr>        <th class=\"blank level0\" ></th>        <th class=\"col_heading level0 col0\" >Model</th>        <th class=\"col_heading level0 col1\" >Mean_Absolute_Per_Error(%)</th>    </tr></thead><tbody>\n",
       "                <tr>\n",
       "                        <th id=\"T_bad23ec8_fa53_11e9_9834_9fa210f67734level0_row0\" class=\"row_heading level0 row0\" >0</th>\n",
       "                        <td id=\"T_bad23ec8_fa53_11e9_9834_9fa210f67734row0_col0\" class=\"data row0 col0\" >Weighted Moving Average Predictions</td>\n",
       "                        <td id=\"T_bad23ec8_fa53_11e9_9834_9fa210f67734row0_col1\" class=\"data row0 col1\" >13.2454</td>\n",
       "            </tr>\n",
       "            <tr>\n",
       "                        <th id=\"T_bad23ec8_fa53_11e9_9834_9fa210f67734level0_row1\" class=\"row_heading level0 row1\" >1</th>\n",
       "                        <td id=\"T_bad23ec8_fa53_11e9_9834_9fa210f67734row1_col0\" class=\"data row1 col0\" >Linear Regression</td>\n",
       "                        <td id=\"T_bad23ec8_fa53_11e9_9834_9fa210f67734row1_col1\" class=\"data row1 col1\" >15.5174</td>\n",
       "            </tr>\n",
       "            <tr>\n",
       "                        <th id=\"T_bad23ec8_fa53_11e9_9834_9fa210f67734level0_row2\" class=\"row_heading level0 row2\" >2</th>\n",
       "                        <td id=\"T_bad23ec8_fa53_11e9_9834_9fa210f67734row2_col0\" class=\"data row2 col0\" >XGBoost Regressor</td>\n",
       "                        <td id=\"T_bad23ec8_fa53_11e9_9834_9fa210f67734row2_col1\" class=\"data row2 col1\" >13.0899</td>\n",
       "            </tr>\n",
       "    </tbody></table>"
      ],
      "text/plain": [
       "<pandas.io.formats.style.Styler at 0x7f5c53e811d0>"
      ]
     },
     "execution_count": 106,
     "metadata": {},
     "output_type": "execute_result"
    }
   ],
   "source": [
    "Final_Table.style.highlight_min(axis=0)"
   ]
  },
  {
   "cell_type": "markdown",
   "metadata": {
    "colab_type": "text",
    "id": "mr7-HIn5Ya23"
   },
   "source": [
    "# So, far our best model is XGBoost Regressor with Test MAPE: 11.57%"
   ]
  }
 ],
 "metadata": {
  "accelerator": "GPU",
  "colab": {
   "collapsed_sections": [
    "eOiXk_l_Yayb",
    "I99QDXT1Yayf",
    "L8lBioAWYayg",
    "Wq3fwjGGYayk",
    "u2dzwaFQYayo",
    "BSp4PufHYayx",
    "mxblmT1sYayy",
    "49fbtQPIYazC",
    "LBBC4QuRYazJ",
    "lC2snNshYazb",
    "DB-_UcXoYazi",
    "2xI9pXCpYazj",
    "Nj8OPjqMYaz1",
    "our9tR44Ya0I",
    "3pWO_BG0Ya0J",
    "xMzuG2gtYa0P",
    "vIK7yxfiYa0U",
    "z_8n46AbYa0b",
    "UJltlrztYa0e",
    "Vt6yhFcGYa0j",
    "nJPFXlnAYa0m",
    "EsOBbcPHYa0p",
    "ntvadQLOYa02",
    "0_IStlLrYa0_",
    "5sZ3nqTlYa1b",
    "lOEj57PqYa1h",
    "LnW1I9uKYa1n",
    "JrIIZMQUYa1v",
    "m10MaQdWYa11",
    "P-ryPltqYa19",
    "YgcjmewbYa2A",
    "1ZZ9LHRrYa2D",
    "unJ_-uRTYa2L",
    "-RSlYPcpYa2p",
    "SIrVjjpSYa2s",
    "z6ifEsh9Ya2t",
    "05J9XCSlYa2z"
   ],
   "name": "Taxi-Demand-Prediction-NYC.ipynb",
   "provenance": []
  },
  "kernelspec": {
   "display_name": "Python 3",
   "language": "python",
   "name": "python3"
  },
  "language_info": {
   "codemirror_mode": {
    "name": "ipython",
    "version": 3
   },
   "file_extension": ".py",
   "mimetype": "text/x-python",
   "name": "python",
   "nbconvert_exporter": "python",
   "pygments_lexer": "ipython3",
   "version": "3.7.3"
  }
 },
 "nbformat": 4,
 "nbformat_minor": 1
}
